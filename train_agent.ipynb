{
 "cells": [
  {
   "cell_type": "code",
   "execution_count": 5,
   "metadata": {},
   "outputs": [
    {
     "name": "stdout",
     "output_type": "stream",
     "text": [
      "Requirement already satisfied: gym in /Library/Frameworks/Python.framework/Versions/3.11/lib/python3.11/site-packages (0.26.2)\n",
      "Requirement already satisfied: numpy>=1.18.0 in /Library/Frameworks/Python.framework/Versions/3.11/lib/python3.11/site-packages (from gym) (2.2.5)\n",
      "Requirement already satisfied: cloudpickle>=1.2.0 in /Library/Frameworks/Python.framework/Versions/3.11/lib/python3.11/site-packages (from gym) (3.1.1)\n",
      "Requirement already satisfied: gym_notices>=0.0.4 in /Library/Frameworks/Python.framework/Versions/3.11/lib/python3.11/site-packages (from gym) (0.0.8)\n",
      "\n",
      "\u001b[1m[\u001b[0m\u001b[34;49mnotice\u001b[0m\u001b[1;39;49m]\u001b[0m\u001b[39;49m A new release of pip available: \u001b[0m\u001b[31;49m22.3.1\u001b[0m\u001b[39;49m -> \u001b[0m\u001b[32;49m25.0.1\u001b[0m\n",
      "\u001b[1m[\u001b[0m\u001b[34;49mnotice\u001b[0m\u001b[1;39;49m]\u001b[0m\u001b[39;49m To update, run: \u001b[0m\u001b[32;49mpip3 install --upgrade pip\u001b[0m\n",
      "Note: you may need to restart the kernel to use updated packages.\n"
     ]
    }
   ],
   "source": [
    "pip install gym"
   ]
  },
  {
   "cell_type": "code",
   "execution_count": 1,
   "metadata": {},
   "outputs": [
    {
     "name": "stdout",
     "output_type": "stream",
     "text": [
      "Requirement already satisfied: stable-baselines3 in /Library/Frameworks/Python.framework/Versions/3.11/lib/python3.11/site-packages (2.4.1)\n",
      "Requirement already satisfied: gymnasium<1.1.0,>=0.29.1 in /Library/Frameworks/Python.framework/Versions/3.11/lib/python3.11/site-packages (from stable-baselines3) (1.0.0)\n",
      "Requirement already satisfied: numpy<2.0,>=1.20 in /Library/Frameworks/Python.framework/Versions/3.11/lib/python3.11/site-packages (from stable-baselines3) (1.23.5)\n",
      "Requirement already satisfied: torch>=1.13 in /Library/Frameworks/Python.framework/Versions/3.11/lib/python3.11/site-packages (from stable-baselines3) (2.2.2)\n",
      "Requirement already satisfied: cloudpickle in /Library/Frameworks/Python.framework/Versions/3.11/lib/python3.11/site-packages (from stable-baselines3) (3.1.1)\n",
      "Requirement already satisfied: pandas in /Library/Frameworks/Python.framework/Versions/3.11/lib/python3.11/site-packages (from stable-baselines3) (2.2.3)\n",
      "Requirement already satisfied: matplotlib in /Library/Frameworks/Python.framework/Versions/3.11/lib/python3.11/site-packages (from stable-baselines3) (3.10.1)\n",
      "Requirement already satisfied: typing-extensions>=4.3.0 in /Library/Frameworks/Python.framework/Versions/3.11/lib/python3.11/site-packages (from gymnasium<1.1.0,>=0.29.1->stable-baselines3) (4.13.2)\n",
      "Requirement already satisfied: farama-notifications>=0.0.1 in /Library/Frameworks/Python.framework/Versions/3.11/lib/python3.11/site-packages (from gymnasium<1.1.0,>=0.29.1->stable-baselines3) (0.0.4)\n",
      "Requirement already satisfied: filelock in /Library/Frameworks/Python.framework/Versions/3.11/lib/python3.11/site-packages (from torch>=1.13->stable-baselines3) (3.18.0)\n",
      "Requirement already satisfied: sympy in /Library/Frameworks/Python.framework/Versions/3.11/lib/python3.11/site-packages (from torch>=1.13->stable-baselines3) (1.13.3)\n",
      "Requirement already satisfied: networkx in /Library/Frameworks/Python.framework/Versions/3.11/lib/python3.11/site-packages (from torch>=1.13->stable-baselines3) (3.4.2)\n",
      "Requirement already satisfied: jinja2 in /Library/Frameworks/Python.framework/Versions/3.11/lib/python3.11/site-packages (from torch>=1.13->stable-baselines3) (3.1.6)\n",
      "Requirement already satisfied: fsspec in /Library/Frameworks/Python.framework/Versions/3.11/lib/python3.11/site-packages (from torch>=1.13->stable-baselines3) (2025.3.2)\n",
      "Requirement already satisfied: contourpy>=1.0.1 in /Library/Frameworks/Python.framework/Versions/3.11/lib/python3.11/site-packages (from matplotlib->stable-baselines3) (1.3.2)\n",
      "Requirement already satisfied: cycler>=0.10 in /Library/Frameworks/Python.framework/Versions/3.11/lib/python3.11/site-packages (from matplotlib->stable-baselines3) (0.12.1)\n",
      "Requirement already satisfied: fonttools>=4.22.0 in /Library/Frameworks/Python.framework/Versions/3.11/lib/python3.11/site-packages (from matplotlib->stable-baselines3) (4.57.0)\n",
      "Requirement already satisfied: kiwisolver>=1.3.1 in /Library/Frameworks/Python.framework/Versions/3.11/lib/python3.11/site-packages (from matplotlib->stable-baselines3) (1.4.8)\n",
      "Requirement already satisfied: packaging>=20.0 in /Users/kiwi/Library/Python/3.11/lib/python/site-packages (from matplotlib->stable-baselines3) (23.0)\n",
      "Requirement already satisfied: pillow>=8 in /Library/Frameworks/Python.framework/Versions/3.11/lib/python3.11/site-packages (from matplotlib->stable-baselines3) (11.2.1)\n",
      "Requirement already satisfied: pyparsing>=2.3.1 in /Library/Frameworks/Python.framework/Versions/3.11/lib/python3.11/site-packages (from matplotlib->stable-baselines3) (3.2.3)\n",
      "Requirement already satisfied: python-dateutil>=2.7 in /Users/kiwi/Library/Python/3.11/lib/python/site-packages (from matplotlib->stable-baselines3) (2.8.2)\n",
      "Requirement already satisfied: pytz>=2020.1 in /Library/Frameworks/Python.framework/Versions/3.11/lib/python3.11/site-packages (from pandas->stable-baselines3) (2025.2)\n",
      "Requirement already satisfied: tzdata>=2022.7 in /Library/Frameworks/Python.framework/Versions/3.11/lib/python3.11/site-packages (from pandas->stable-baselines3) (2025.2)\n",
      "Requirement already satisfied: six>=1.5 in /Users/kiwi/Library/Python/3.11/lib/python/site-packages (from python-dateutil>=2.7->matplotlib->stable-baselines3) (1.16.0)\n",
      "Requirement already satisfied: MarkupSafe>=2.0 in /Library/Frameworks/Python.framework/Versions/3.11/lib/python3.11/site-packages (from jinja2->torch>=1.13->stable-baselines3) (3.0.2)\n",
      "Requirement already satisfied: mpmath<1.4,>=1.1.0 in /Library/Frameworks/Python.framework/Versions/3.11/lib/python3.11/site-packages (from sympy->torch>=1.13->stable-baselines3) (1.3.0)\n",
      "\n",
      "\u001b[1m[\u001b[0m\u001b[34;49mnotice\u001b[0m\u001b[1;39;49m]\u001b[0m\u001b[39;49m A new release of pip available: \u001b[0m\u001b[31;49m22.3.1\u001b[0m\u001b[39;49m -> \u001b[0m\u001b[32;49m25.0.1\u001b[0m\n",
      "\u001b[1m[\u001b[0m\u001b[34;49mnotice\u001b[0m\u001b[1;39;49m]\u001b[0m\u001b[39;49m To update, run: \u001b[0m\u001b[32;49mpip3 install --upgrade pip\u001b[0m\n",
      "Note: you may need to restart the kernel to use updated packages.\n"
     ]
    }
   ],
   "source": [
    "pip install stable-baselines3 # may potentially take a few minutes to install unless my laptop is just especially awful"
   ]
  },
  {
   "cell_type": "code",
   "execution_count": 2,
   "metadata": {},
   "outputs": [
    {
     "name": "stdout",
     "output_type": "stream",
     "text": [
      "Found existing installation: numpy 1.23.5\n",
      "Uninstalling numpy-1.23.5:\n",
      "  Successfully uninstalled numpy-1.23.5\n",
      "Found existing installation: stable_baselines3 2.4.1\n",
      "Uninstalling stable_baselines3-2.4.1:\n",
      "  Successfully uninstalled stable_baselines3-2.4.1\n",
      "Note: you may need to restart the kernel to use updated packages.\n",
      "Collecting numpy==1.23.5\n",
      "  Using cached numpy-1.23.5-cp311-cp311-macosx_10_9_x86_64.whl (18.1 MB)\n",
      "Requirement already satisfied: gym in /Library/Frameworks/Python.framework/Versions/3.11/lib/python3.11/site-packages (0.26.2)\n",
      "Collecting stable-baselines3\n",
      "  Using cached stable_baselines3-2.6.0-py3-none-any.whl (184 kB)\n",
      "Requirement already satisfied: cloudpickle>=1.2.0 in /Library/Frameworks/Python.framework/Versions/3.11/lib/python3.11/site-packages (from gym) (3.1.1)\n",
      "Requirement already satisfied: gym_notices>=0.0.4 in /Library/Frameworks/Python.framework/Versions/3.11/lib/python3.11/site-packages (from gym) (0.0.8)\n",
      "Requirement already satisfied: gymnasium<1.2.0,>=0.29.1 in /Library/Frameworks/Python.framework/Versions/3.11/lib/python3.11/site-packages (from stable-baselines3) (1.0.0)\n",
      "  Using cached stable_baselines3-2.5.0-py3-none-any.whl (183 kB)\n",
      "  Using cached stable_baselines3-2.4.1-py3-none-any.whl (183 kB)\n",
      "Requirement already satisfied: torch>=1.13 in /Library/Frameworks/Python.framework/Versions/3.11/lib/python3.11/site-packages (from stable-baselines3) (2.2.2)\n",
      "Requirement already satisfied: pandas in /Library/Frameworks/Python.framework/Versions/3.11/lib/python3.11/site-packages (from stable-baselines3) (2.2.3)\n",
      "Requirement already satisfied: matplotlib in /Library/Frameworks/Python.framework/Versions/3.11/lib/python3.11/site-packages (from stable-baselines3) (3.10.1)\n",
      "Requirement already satisfied: typing-extensions>=4.3.0 in /Library/Frameworks/Python.framework/Versions/3.11/lib/python3.11/site-packages (from gymnasium<1.2.0,>=0.29.1->stable-baselines3) (4.13.2)\n",
      "Requirement already satisfied: farama-notifications>=0.0.1 in /Library/Frameworks/Python.framework/Versions/3.11/lib/python3.11/site-packages (from gymnasium<1.2.0,>=0.29.1->stable-baselines3) (0.0.4)\n",
      "Requirement already satisfied: filelock in /Library/Frameworks/Python.framework/Versions/3.11/lib/python3.11/site-packages (from torch>=1.13->stable-baselines3) (3.18.0)\n",
      "Requirement already satisfied: sympy in /Library/Frameworks/Python.framework/Versions/3.11/lib/python3.11/site-packages (from torch>=1.13->stable-baselines3) (1.13.3)\n",
      "Requirement already satisfied: networkx in /Library/Frameworks/Python.framework/Versions/3.11/lib/python3.11/site-packages (from torch>=1.13->stable-baselines3) (3.4.2)\n",
      "Requirement already satisfied: jinja2 in /Library/Frameworks/Python.framework/Versions/3.11/lib/python3.11/site-packages (from torch>=1.13->stable-baselines3) (3.1.6)\n",
      "Requirement already satisfied: fsspec in /Library/Frameworks/Python.framework/Versions/3.11/lib/python3.11/site-packages (from torch>=1.13->stable-baselines3) (2025.3.2)\n",
      "Requirement already satisfied: contourpy>=1.0.1 in /Library/Frameworks/Python.framework/Versions/3.11/lib/python3.11/site-packages (from matplotlib->stable-baselines3) (1.3.2)\n",
      "Requirement already satisfied: cycler>=0.10 in /Library/Frameworks/Python.framework/Versions/3.11/lib/python3.11/site-packages (from matplotlib->stable-baselines3) (0.12.1)\n",
      "Requirement already satisfied: fonttools>=4.22.0 in /Library/Frameworks/Python.framework/Versions/3.11/lib/python3.11/site-packages (from matplotlib->stable-baselines3) (4.57.0)\n",
      "Requirement already satisfied: kiwisolver>=1.3.1 in /Library/Frameworks/Python.framework/Versions/3.11/lib/python3.11/site-packages (from matplotlib->stable-baselines3) (1.4.8)\n",
      "Requirement already satisfied: packaging>=20.0 in /Users/kiwi/Library/Python/3.11/lib/python/site-packages (from matplotlib->stable-baselines3) (23.0)\n",
      "Requirement already satisfied: pillow>=8 in /Library/Frameworks/Python.framework/Versions/3.11/lib/python3.11/site-packages (from matplotlib->stable-baselines3) (11.2.1)\n",
      "Requirement already satisfied: pyparsing>=2.3.1 in /Library/Frameworks/Python.framework/Versions/3.11/lib/python3.11/site-packages (from matplotlib->stable-baselines3) (3.2.3)\n",
      "Requirement already satisfied: python-dateutil>=2.7 in /Users/kiwi/Library/Python/3.11/lib/python/site-packages (from matplotlib->stable-baselines3) (2.8.2)\n",
      "Requirement already satisfied: pytz>=2020.1 in /Library/Frameworks/Python.framework/Versions/3.11/lib/python3.11/site-packages (from pandas->stable-baselines3) (2025.2)\n",
      "Requirement already satisfied: tzdata>=2022.7 in /Library/Frameworks/Python.framework/Versions/3.11/lib/python3.11/site-packages (from pandas->stable-baselines3) (2025.2)\n",
      "Requirement already satisfied: six>=1.5 in /Users/kiwi/Library/Python/3.11/lib/python/site-packages (from python-dateutil>=2.7->matplotlib->stable-baselines3) (1.16.0)\n",
      "Requirement already satisfied: MarkupSafe>=2.0 in /Library/Frameworks/Python.framework/Versions/3.11/lib/python3.11/site-packages (from jinja2->torch>=1.13->stable-baselines3) (3.0.2)\n",
      "Requirement already satisfied: mpmath<1.4,>=1.1.0 in /Library/Frameworks/Python.framework/Versions/3.11/lib/python3.11/site-packages (from sympy->torch>=1.13->stable-baselines3) (1.3.0)\n",
      "Installing collected packages: numpy, stable-baselines3\n",
      "Successfully installed numpy-1.23.5 stable-baselines3-2.4.1\n",
      "\n",
      "\u001b[1m[\u001b[0m\u001b[34;49mnotice\u001b[0m\u001b[1;39;49m]\u001b[0m\u001b[39;49m A new release of pip available: \u001b[0m\u001b[31;49m22.3.1\u001b[0m\u001b[39;49m -> \u001b[0m\u001b[32;49m25.0.1\u001b[0m\n",
      "\u001b[1m[\u001b[0m\u001b[34;49mnotice\u001b[0m\u001b[1;39;49m]\u001b[0m\u001b[39;49m To update, run: \u001b[0m\u001b[32;49mpip3 install --upgrade pip\u001b[0m\n",
      "Note: you may need to restart the kernel to use updated packages.\n"
     ]
    }
   ],
   "source": [
    "%pip uninstall -y numpy stable-baselines3\n",
    "%pip install numpy==1.23.5 gym stable-baselines3"
   ]
  },
  {
   "cell_type": "code",
   "execution_count": 3,
   "metadata": {},
   "outputs": [
    {
     "name": "stderr",
     "output_type": "stream",
     "text": [
      "Matplotlib is building the font cache; this may take a moment.\n"
     ]
    }
   ],
   "source": [
    "import gym\n",
    "from gym import spaces\n",
    "from stable_baselines3 import PPO\n",
    "from stable_baselines3.common.env_util import make_vec_env"
   ]
  },
  {
   "cell_type": "code",
   "execution_count": 6,
   "metadata": {},
   "outputs": [
    {
     "name": "stdout",
     "output_type": "stream",
     "text": [
      "Collecting joblib\n",
      "  Downloading joblib-1.4.2-py3-none-any.whl (301 kB)\n",
      "\u001b[2K     \u001b[90m━━━━━━━━━━━━━━━━━━━━━━━━━━━━━━━━━━━━━━━\u001b[0m \u001b[32m301.8/301.8 kB\u001b[0m \u001b[31m4.5 MB/s\u001b[0m eta \u001b[36m0:00:00\u001b[0m00:01\u001b[0m\n",
      "\u001b[?25hInstalling collected packages: joblib\n",
      "Successfully installed joblib-1.4.2\n",
      "\n",
      "\u001b[1m[\u001b[0m\u001b[34;49mnotice\u001b[0m\u001b[1;39;49m]\u001b[0m\u001b[39;49m A new release of pip available: \u001b[0m\u001b[31;49m22.3.1\u001b[0m\u001b[39;49m -> \u001b[0m\u001b[32;49m25.0.1\u001b[0m\n",
      "\u001b[1m[\u001b[0m\u001b[34;49mnotice\u001b[0m\u001b[1;39;49m]\u001b[0m\u001b[39;49m To update, run: \u001b[0m\u001b[32;49mpip3 install --upgrade pip\u001b[0m\n",
      "Note: you may need to restart the kernel to use updated packages.\n"
     ]
    }
   ],
   "source": [
    "%pip install joblib"
   ]
  },
  {
   "cell_type": "code",
   "execution_count": 8,
   "metadata": {},
   "outputs": [
    {
     "name": "stdout",
     "output_type": "stream",
     "text": [
      "Requirement already satisfied: joblib in /Library/Frameworks/Python.framework/Versions/3.11/lib/python3.11/site-packages (1.4.2)\n",
      "Collecting scipy\n",
      "  Downloading scipy-1.15.2-cp311-cp311-macosx_10_13_x86_64.whl (38.7 MB)\n",
      "\u001b[2K     \u001b[90m━━━━━━━━━━━━━━━━━━━━━━━━━━━━━━━━━━━━━━━━\u001b[0m \u001b[32m38.7/38.7 MB\u001b[0m \u001b[31m8.3 MB/s\u001b[0m eta \u001b[36m0:00:00\u001b[0m:00:01\u001b[0m00:01\u001b[0m\n",
      "\u001b[?25hRequirement already satisfied: numpy<2.5,>=1.23.5 in /Library/Frameworks/Python.framework/Versions/3.11/lib/python3.11/site-packages (from scipy) (1.23.5)\n",
      "Installing collected packages: scipy\n",
      "Successfully installed scipy-1.15.2\n",
      "\n",
      "\u001b[1m[\u001b[0m\u001b[34;49mnotice\u001b[0m\u001b[1;39;49m]\u001b[0m\u001b[39;49m A new release of pip available: \u001b[0m\u001b[31;49m22.3.1\u001b[0m\u001b[39;49m -> \u001b[0m\u001b[32;49m25.0.1\u001b[0m\n",
      "\u001b[1m[\u001b[0m\u001b[34;49mnotice\u001b[0m\u001b[1;39;49m]\u001b[0m\u001b[39;49m To update, run: \u001b[0m\u001b[32;49mpip3 install --upgrade pip\u001b[0m\n",
      "Note: you may need to restart the kernel to use updated packages.\n"
     ]
    }
   ],
   "source": [
    "%pip install joblib scipy"
   ]
  },
  {
   "cell_type": "code",
   "execution_count": 32,
   "metadata": {},
   "outputs": [],
   "source": [
    "import gymnasium as gym\n",
    "from gymnasium import spaces\n",
    "import texasholdem as th\n",
    "import numpy as np\n",
    "import random\n",
    "from types import SimpleNamespace\n",
    "from TexasHoldEmBot import get_features\n",
    "from texasholdem.evaluator import evaluate"
   ]
  },
  {
   "cell_type": "code",
   "execution_count": 39,
   "metadata": {},
   "outputs": [],
   "source": [
    "class PokerEnv(gym.Env):\n",
    "    metadata = {\"render_modes\": []}\n",
    "\n",
    "    def __init__(self):\n",
    "        super().__init__()\n",
    "        self.action_space = spaces.Discrete(4) # 0 FOLD 1 CALL 2 CHECK 3 ALL IN!!!!!!\n",
    "        self.observation_space = spaces.Box(\n",
    "            low=0.0, high=np.inf, shape=(131,), dtype=np.float32\n",
    "        )\n",
    "        self.game = None # placeholder for instance created later\n",
    "\n",
    "    def _patch_prehand(self):\n",
    "        # ************************\n",
    "        # this is for if the game is still in its initial prehand phase\n",
    "        # overrides it so that it becomes preflop otherwise\n",
    "        # get_features() keeps crashing on an \"unknown phase\"\n",
    "        if self.game.hand_phase.name == \"PREHAND\":\n",
    "            self.game.hand_phase = SimpleNamespace(name=\"PREFLOP\")\n",
    "\n",
    "    def reset(self, *, seed=None, options=None):\n",
    "        super().reset(seed=seed)\n",
    "        self.game = th.TexasHoldEm(\n",
    "            buyin=500, big_blind=5, small_blind=2, max_players=2\n",
    "        )\n",
    "        self.game.start_hand()\n",
    "        # ** this part is needed so get_features() stops crashing for now\n",
    "        self._patch_prehand()\n",
    "        obs = get_features(self.game).detach().numpy().squeeze()\n",
    "        return obs, {}\n",
    "\n",
    "    # for advancing one step (one full hand)\n",
    "    def step(self, action):\n",
    "        # possible action types\n",
    "        # *********** IMPORTANT: RAISE NEEDS TO BE ADDED BACK IN\n",
    "        action_type = [\n",
    "            th.ActionType.FOLD,\n",
    "            th.ActionType.CALL,\n",
    "            th.ActionType.CHECK,\n",
    "            th.ActionType.ALL_IN,\n",
    "        ][action]\n",
    "\n",
    "        # translates integers into actions \n",
    "        if action_type is th.ActionType.CHECK and \\\n",
    "           self.game.chips_to_call(self.game.current_player) > 0:\n",
    "            action_type = th.ActionType.CALL\n",
    "\n",
    "        # check for illegal move: you cannot check when there is money to call -> change action to a call\n",
    "        if action_type is th.ActionType.FOLD:\n",
    "            self.game.take_action(th.ActionType.FOLD)\n",
    "            self._patch_prehand() # if illegal action of a raise is attempted\n",
    "            obs = get_features(self.game).detach().numpy().squeeze()\n",
    "            return obs, -1.0, True, False, {}\n",
    "\n",
    "        # agent’s actual move (fallback to fold on error)\n",
    "        try:\n",
    "            self.game.take_action(action_type)\n",
    "        except ValueError:\n",
    "            self.game.take_action(th.ActionType.FOLD)\n",
    "            self._patch_prehand() # if illegal action of a raise is attempted\n",
    "            obs = get_features(self.game).detach().numpy().squeeze()\n",
    "            return obs, -1.0, True, False, {}\n",
    "\n",
    "        self._patch_prehand()\n",
    "\n",
    "        # simulates an opponent until showdown phase\n",
    "        while self.game.hand_phase.name != \"SHOWDOWN\":\n",
    "            opp_action = random.choice([th.ActionType.FOLD, th.ActionType.CALL])\n",
    "            try:\n",
    "                self.game.take_action(opp_action)\n",
    "            except ValueError:\n",
    "                continue\n",
    "\n",
    "            # if opponent folds, agent wins right away\n",
    "            if opp_action is th.ActionType.FOLD:\n",
    "                self._patch_prehand()\n",
    "                obs = get_features(self.game).detach().numpy().squeeze()\n",
    "                return obs, 1.0, True, False, {}\n",
    "\n",
    "            # patch just to be sure\n",
    "            self._patch_prehand()\n",
    "\n",
    "        # juuuuust to be extra sure\n",
    "        self._patch_prehand()\n",
    "        obs = get_features(self.game).detach().numpy().squeeze()\n",
    "\n",
    "        # compute showdown rewards\n",
    "        ranks = [\n",
    "            evaluate(self.game.get_hand(p), self.game.board)\n",
    "            for p in range(self.game.max_players)\n",
    "        ]\n",
    "        you  = ranks[self.game.current_player]\n",
    "        best = min(ranks)\n",
    "        reward = 1.0 if you == best else -1.0\n",
    "\n",
    "        # returns final tuple\n",
    "        return obs, reward, True, False, {}"
   ]
  },
  {
   "cell_type": "code",
   "execution_count": 47,
   "metadata": {},
   "outputs": [
    {
     "name": "stdout",
     "output_type": "stream",
     "text": [
      "Action space: Discrete(4)\n",
      "Observation space: Box(0.0, inf, (131,), float32)\n",
      "-> new_obs shape = (131,)\n",
      "-> reward = 1.0\n",
      "-> terminated = True\n",
      "-> truncated = False\n",
      "-> info = {}\n",
      "Episode finished, total_reward = -1.0\n"
     ]
    }
   ],
   "source": [
    "env = PokerEnv()\n",
    "\n",
    "# verify spaces are correct \n",
    "print(\"Action space:\", env.action_space)               \n",
    "print(\"Observation space:\", env.observation_space)      \n",
    "\n",
    "# reset environment before beginning game\n",
    "obs, info = env.reset()\n",
    "\n",
    "# takes a random step that runs through a full hand simulation\n",
    "# should apply the agent's move -> simulate opponent -> showdown -> return reward\n",
    "action = env.action_space.sample()\n",
    "new_obs, reward, terminated, truncated, info = env.step(action)\n",
    "print(\"-> new_obs shape =\", new_obs.shape)\n",
    "print(\"-> reward =\", reward) # +1 won the hand -1 lost the hand\n",
    "print(\"-> terminated =\", terminated) # should always be true but just to check\n",
    "print(\"-> truncated =\", truncated)\n",
    "print(\"-> info =\", info)\n",
    "\n",
    "# runs through one full episode\n",
    "obs, info = env.reset()\n",
    "terminated = False\n",
    "total_reward = 0.0\n",
    "while not terminated:\n",
    "    action = env.action_space.sample()\n",
    "    obs, reward, terminated, truncated, info = env.step(action)\n",
    "    total_reward += reward\n",
    "print(\"Episode finished, total_reward =\", total_reward)\n"
   ]
  },
  {
   "cell_type": "code",
   "execution_count": 50,
   "metadata": {},
   "outputs": [
    {
     "name": "stdout",
     "output_type": "stream",
     "text": [
      "win rate = 76.70%\n"
     ]
    }
   ],
   "source": [
    "# randomly play 1000 hands\n",
    "# set as a baseline, so once trained the agent should actually beat whatever win rate is gotten\n",
    "# ******* NOTE: the win rate is currently a bit too high than it should be because RAISE is not properly implemented\n",
    "# also opponent currently only does FOLD or CALL\n",
    "N = 1000\n",
    "wins = 0\n",
    "for _ in range(N):\n",
    "    obs, info = env.reset()\n",
    "    done = False\n",
    "    while not done:\n",
    "        action = env.action_space.sample()\n",
    "        obs, reward, done, truncated, info = env.step(action)\n",
    "    if reward > 0:\n",
    "        wins += 1\n",
    "print(f\"win rate = {wins/N:.2%}\")"
   ]
  },
  {
   "attachments": {},
   "cell_type": "markdown",
   "metadata": {},
   "source": []
  },
  {
   "cell_type": "markdown",
   "metadata": {},
   "source": []
  }
 ],
 "metadata": {
  "kernelspec": {
   "display_name": "Python 3",
   "language": "python",
   "name": "python3"
  },
  "language_info": {
   "codemirror_mode": {
    "name": "ipython",
    "version": 3
   },
   "file_extension": ".py",
   "mimetype": "text/x-python",
   "name": "python",
   "nbconvert_exporter": "python",
   "pygments_lexer": "ipython3",
   "version": "3.11.1"
  },
  "orig_nbformat": 4,
  "vscode": {
   "interpreter": {
    "hash": "aee8b7b246df8f9039afb4144a1f6fd8d2ca17a180786b69acc140d282b71a49"
   }
  }
 },
 "nbformat": 4,
 "nbformat_minor": 2
}
