{
 "cells": [
  {
   "cell_type": "code",
   "execution_count": 1,
   "metadata": {},
   "outputs": [],
   "source": [
    "from table import HoldemTable, OmahaTable"
   ]
  },
  {
   "cell_type": "markdown",
   "metadata": {},
   "source": [
    "# PokerOddsCalc\n",
    "\n",
    "---\n",
    "\n",
    "**PokerOddsCalc** is a simple poker hand probability calculation tool that supports Texas Holdem and Omaha.\n",
    "\n",
    "\n",
    "### Initialization\n",
    "\n",
    "--- \n",
    "\n",
    "Initialize with number of players and deck type(full or short deck(6 and above))"
   ]
  },
  {
   "cell_type": "code",
   "execution_count": 2,
   "metadata": {},
   "outputs": [],
   "source": [
    "holdem_game = HoldemTable(num_players=5, deck_type='full')"
   ]
  },
  {
   "cell_type": "markdown",
   "metadata": {},
   "source": [
    "### Deal Player Cards\n",
    "\n",
    "--- \n",
    "\n",
    "- Can Either Manually Add or Random Hand out Cards\n",
    "- Check the Current Table"
   ]
  },
  {
   "cell_type": "code",
   "execution_count": 3,
   "metadata": {},
   "outputs": [],
   "source": [
    "holdem_game.add_to_hand(1, ['Td', 'Ts'])"
   ]
  },
  {
   "cell_type": "code",
   "execution_count": 4,
   "metadata": {},
   "outputs": [
    {
     "name": "stderr",
     "output_type": "stream",
     "text": [
      "INFO:root:Giving Player 2 8d Ks\n",
      "INFO:root:Giving Player 3 Kh Jc\n",
      "INFO:root:Giving Player 4 3c 2c\n",
      "INFO:root:Giving Player 5 Qh 5d\n"
     ]
    }
   ],
   "source": [
    "holdem_game.next_round() # Will hand out remaining players starting hand"
   ]
  },
  {
   "cell_type": "code",
   "execution_count": 5,
   "metadata": {},
   "outputs": [
    {
     "data": {
      "text/plain": [
       "{'Player 1': 'Td Ts',\n",
       " 'Player 2': '8d Ks',\n",
       " 'Player 3': 'Kh Jc',\n",
       " 'Player 4': '3c 2c',\n",
       " 'Player 5': 'Qh 5d',\n",
       " 'Community Cards': ''}"
      ]
     },
     "execution_count": 5,
     "metadata": {},
     "output_type": "execute_result"
    }
   ],
   "source": [
    "holdem_game.view_table()"
   ]
  },
  {
   "cell_type": "markdown",
   "metadata": {},
   "source": [
    "### Simulation\n",
    "\n",
    "--- \n",
    "\n",
    "- Set Number of Scenarios, default is 150000 for Holdem and 25000 for Omaha\n",
    "- Return Final Hand Probability\n",
    "- Return Three Types of Odds Calculation (Default is tie_win)\n",
    "    - win_any, any win counts as a win scenario for a player\n",
    "    - tie_win, any exclusive win counts as win, any tied win or tie counts as a tie\n",
    "    - precise, every possible outcome"
   ]
  },
  {
   "cell_type": "code",
   "execution_count": 6,
   "metadata": {},
   "outputs": [
    {
     "name": "stderr",
     "output_type": "stream",
     "text": [
      "INFO:root:15750000 Simulations in 3.98s\n"
     ]
    },
    {
     "data": {
      "text/plain": [
       "{'Player 1 Win': np.float64(29.68),\n",
       " 'Player 1 Tie': np.float64(0.22),\n",
       " 'Player 2 Win': np.float64(8.13),\n",
       " 'Player 2 Tie': np.float64(1.94),\n",
       " 'Player 3 Win': np.float64(23.04),\n",
       " 'Player 3 Tie': np.float64(1.94),\n",
       " 'Player 4 Win': np.float64(18.14),\n",
       " 'Player 4 Tie': np.float64(0.22),\n",
       " 'Player 5 Win': np.float64(19.07),\n",
       " 'Player 5 Tie': np.float64(0.22)}"
      ]
     },
     "execution_count": 6,
     "metadata": {},
     "output_type": "execute_result"
    }
   ],
   "source": [
    "holdem_game.simulate()"
   ]
  },
  {
   "cell_type": "code",
   "execution_count": 7,
   "metadata": {},
   "outputs": [
    {
     "name": "stderr",
     "output_type": "stream",
     "text": [
      "INFO:root:52500000 Simulations in 16.68s\n"
     ]
    },
    {
     "data": {
      "text/plain": [
       "{'Player 1 Win': np.float64(29.8),\n",
       " 'Player 2 Win': np.float64(8.07),\n",
       " 'Player 3 Win': np.float64(22.94),\n",
       " 'Player 4 Win': np.float64(18.26),\n",
       " 'Player 5 Win': np.float64(19.02),\n",
       " 'Player 1,2 Tie': np.float64(0.0),\n",
       " 'Player 1,3 Tie': np.float64(0.0),\n",
       " 'Player 1,4 Tie': np.float64(0.0),\n",
       " 'Player 1,5 Tie': np.float64(0.0),\n",
       " 'Player 2,3 Tie': np.float64(1.73),\n",
       " 'Player 2,4 Tie': np.float64(0.0),\n",
       " 'Player 2,5 Tie': np.float64(0.0),\n",
       " 'Player 3,4 Tie': np.float64(0.0),\n",
       " 'Player 3,5 Tie': np.float64(0.0),\n",
       " 'Player 4,5 Tie': np.float64(0.0),\n",
       " 'Player 1,2,3 Tie': np.float64(0.0),\n",
       " 'Player 1,2,4 Tie': np.float64(0.0),\n",
       " 'Player 1,2,5 Tie': np.float64(0.0),\n",
       " 'Player 1,3,4 Tie': np.float64(0.0),\n",
       " 'Player 1,3,5 Tie': np.float64(0.0),\n",
       " 'Player 1,4,5 Tie': np.float64(0.0),\n",
       " 'Player 2,3,4 Tie': np.float64(0.0),\n",
       " 'Player 2,3,5 Tie': np.float64(0.0),\n",
       " 'Player 2,4,5 Tie': np.float64(0.0),\n",
       " 'Player 3,4,5 Tie': np.float64(0.0),\n",
       " 'Player 1,2,3,4 Tie': np.float64(0.0),\n",
       " 'Player 1,2,3,5 Tie': np.float64(0.0),\n",
       " 'Player 1,2,4,5 Tie': np.float64(0.0),\n",
       " 'Player 1,3,4,5 Tie': np.float64(0.0),\n",
       " 'Player 2,3,4,5 Tie': np.float64(0.0),\n",
       " 'Player 1,2,3,4,5 Tie': np.float64(0.19)}"
      ]
     },
     "execution_count": 7,
     "metadata": {},
     "output_type": "execute_result"
    }
   ],
   "source": [
    "holdem_game.simulate(num_scenarios=500000, odds_type='precise')"
   ]
  },
  {
   "cell_type": "code",
   "execution_count": 8,
   "metadata": {},
   "outputs": [
    {
     "name": "stderr",
     "output_type": "stream",
     "text": [
      "INFO:root:15750000 Simulations in 3.84s\n"
     ]
    },
    {
     "data": {
      "text/plain": [
       "{'Tie': np.float64(0.19),\n",
       " 'Player 1': np.float64(29.82),\n",
       " 'Player 2': np.float64(9.82),\n",
       " 'Player 3': np.float64(24.63),\n",
       " 'Player 4': np.float64(18.36),\n",
       " 'Player 5': np.float64(18.91)}"
      ]
     },
     "execution_count": 8,
     "metadata": {},
     "output_type": "execute_result"
    }
   ],
   "source": [
    "holdem_game.simulate(odds_type='win_any')"
   ]
  },
  {
   "cell_type": "code",
   "execution_count": 9,
   "metadata": {},
   "outputs": [
    {
     "name": "stderr",
     "output_type": "stream",
     "text": [
      "INFO:root:15750000 Simulations in 3.82s\n"
     ]
    },
    {
     "data": {
      "text/plain": [
       "{1: {np.str_('One Pair'): np.float64(33.8),\n",
       "  np.str_('Two Pairs'): np.float64(37.36),\n",
       "  np.str_('Three of a Kind'): np.float64(13.83),\n",
       "  np.str_('Straight'): np.float64(2.33),\n",
       "  np.str_('Flush'): np.float64(2.13),\n",
       "  np.str_('Full House'): np.float64(9.41),\n",
       "  np.str_('Four of a Kind'): np.float64(1.13),\n",
       "  np.str_('Straight Flush'): np.float64(0.02)},\n",
       " 2: {np.str_('High Card'): np.float64(19.91),\n",
       "  np.str_('One Pair'): np.float64(46.05),\n",
       "  np.str_('Two Pairs'): np.float64(22.64),\n",
       "  np.str_('Three of a Kind'): np.float64(4.32),\n",
       "  np.str_('Straight'): np.float64(2.78),\n",
       "  np.str_('Flush'): np.float64(2.15),\n",
       "  np.str_('Full House'): np.float64(2.05),\n",
       "  np.str_('Four of a Kind'): np.float64(0.1),\n",
       "  np.str_('Straight Flush'): np.float64(0.0)},\n",
       " 3: {np.str_('High Card'): np.float64(19.67),\n",
       "  np.str_('One Pair'): np.float64(45.73),\n",
       "  np.str_('Two Pairs'): np.float64(22.41),\n",
       "  np.str_('Three of a Kind'): np.float64(4.2),\n",
       "  np.str_('Straight'): np.float64(3.7),\n",
       "  np.str_('Flush'): np.float64(2.12),\n",
       "  np.str_('Full House'): np.float64(2.04),\n",
       "  np.str_('Four of a Kind'): np.float64(0.1),\n",
       "  np.str_('Straight Flush'): np.float64(0.02)},\n",
       " 4: {np.str_('High Card'): np.float64(14.29),\n",
       "  np.str_('One Pair'): np.float64(39.83),\n",
       "  np.str_('Two Pairs'): np.float64(24.11),\n",
       "  np.str_('Three of a Kind'): np.float64(5.05),\n",
       "  np.str_('Straight'): np.float64(5.61),\n",
       "  np.str_('Flush'): np.float64(7.72),\n",
       "  np.str_('Full House'): np.float64(3.02),\n",
       "  np.str_('Four of a Kind'): np.float64(0.18),\n",
       "  np.str_('Straight Flush'): np.float64(0.17)},\n",
       " 5: {np.str_('High Card'): np.float64(16.42),\n",
       "  np.str_('One Pair'): np.float64(44.12),\n",
       "  np.str_('Two Pairs'): np.float64(25.36),\n",
       "  np.str_('Three of a Kind'): np.float64(5.19),\n",
       "  np.str_('Straight'): np.float64(3.49),\n",
       "  np.str_('Flush'): np.float64(2.15),\n",
       "  np.str_('Full House'): np.float64(3.05),\n",
       "  np.str_('Four of a Kind'): np.float64(0.2),\n",
       "  np.str_('Straight Flush'): np.float64(0.02)}}"
      ]
     },
     "execution_count": 9,
     "metadata": {},
     "output_type": "execute_result"
    }
   ],
   "source": [
    "win_draw_loss, final_hand = holdem_game.simulate(final_hand=True)\n",
    "final_hand"
   ]
  },
  {
   "cell_type": "markdown",
   "metadata": {},
   "source": [
    "### Next Round\n",
    "\n",
    "--- \n",
    "\n",
    "- Run Next Round and Update Odds\n",
    "- Check Game Result\n",
    "- Check Current Best Hand for each player"
   ]
  },
  {
   "cell_type": "code",
   "execution_count": 10,
   "metadata": {},
   "outputs": [
    {
     "name": "stderr",
     "output_type": "stream",
     "text": [
      "INFO:root:Flop card:  Kc 8c As\n"
     ]
    }
   ],
   "source": [
    "holdem_game.next_round()"
   ]
  },
  {
   "cell_type": "code",
   "execution_count": 11,
   "metadata": {},
   "outputs": [
    {
     "data": {
      "text/plain": [
       "'Player 2 wins with a Two Pairs'"
      ]
     },
     "execution_count": 11,
     "metadata": {},
     "output_type": "execute_result"
    }
   ],
   "source": [
    "holdem_game.view_result()"
   ]
  },
  {
   "cell_type": "code",
   "execution_count": 12,
   "metadata": {},
   "outputs": [
    {
     "data": {
      "text/plain": [
       "{'Player 1 Current Hand': 'One Pair 8d Ks Ac Tc Ts',\n",
       " 'Player 2 Current Hand': 'Two Pairs Ad 8s 8c Kc Ks',\n",
       " 'Player 3 Current Hand': 'One Pair 8h Jc Ac Kc Ks',\n",
       " 'Player 4 Current Hand': 'High Card 2c 3c 8c Kc As',\n",
       " 'Player 5 Current Hand': 'High Card 5h 8d Qc Kc As'}"
      ]
     },
     "execution_count": 12,
     "metadata": {},
     "output_type": "execute_result"
    }
   ],
   "source": [
    "holdem_game.view_hand()"
   ]
  },
  {
   "cell_type": "code",
   "execution_count": 13,
   "metadata": {},
   "outputs": [
    {
     "name": "stderr",
     "output_type": "stream",
     "text": [
      "INFO:root:77805 Simulations in 0.23s\n"
     ]
    },
    {
     "data": {
      "text/plain": [
       "{'Player 1 Win': np.float64(4.99),\n",
       " 'Player 1 Tie': np.float64(0.0),\n",
       " 'Player 2 Win': np.float64(41.03),\n",
       " 'Player 2 Tie': np.float64(2.43),\n",
       " 'Player 3 Win': np.float64(19.84),\n",
       " 'Player 3 Tie': np.float64(2.43),\n",
       " 'Player 4 Win': np.float64(31.04),\n",
       " 'Player 4 Tie': np.float64(0.0),\n",
       " 'Player 5 Win': np.float64(0.67),\n",
       " 'Player 5 Tie': np.float64(0.0)}"
      ]
     },
     "execution_count": 13,
     "metadata": {},
     "output_type": "execute_result"
    }
   ],
   "source": [
    "holdem_game.simulate()"
   ]
  },
  {
   "cell_type": "code",
   "execution_count": 14,
   "metadata": {},
   "outputs": [
    {
     "name": "stderr",
     "output_type": "stream",
     "text": [
      "INFO:root:Turn card:  7d\n"
     ]
    }
   ],
   "source": [
    "holdem_game.next_round()"
   ]
  },
  {
   "cell_type": "code",
   "execution_count": 15,
   "metadata": {},
   "outputs": [
    {
     "data": {
      "text/plain": [
       "'Player 2 wins with a Two Pairs'"
      ]
     },
     "execution_count": 15,
     "metadata": {},
     "output_type": "execute_result"
    }
   ],
   "source": [
    "holdem_game.view_result()"
   ]
  },
  {
   "cell_type": "code",
   "execution_count": 16,
   "metadata": {},
   "outputs": [
    {
     "name": "stderr",
     "output_type": "stream",
     "text": [
      "INFO:root:3990 Simulations in 0.09s\n"
     ]
    },
    {
     "data": {
      "text/plain": [
       "({'Player 1 Win': np.float64(2.63),\n",
       "  'Player 1 Tie': np.float64(0.0),\n",
       "  'Player 2 Win': np.float64(57.89),\n",
       "  'Player 2 Tie': np.float64(0.0),\n",
       "  'Player 3 Win': np.float64(18.42),\n",
       "  'Player 3 Tie': np.float64(0.0),\n",
       "  'Player 4 Win': np.float64(21.05),\n",
       "  'Player 4 Tie': np.float64(0.0),\n",
       "  'Player 5 Win': np.float64(0.0),\n",
       "  'Player 5 Tie': np.float64(0.0)},\n",
       " {1: {np.str_('One Pair'): np.float64(71.05),\n",
       "   np.str_('Two Pairs'): np.float64(23.68),\n",
       "   np.str_('Three of a Kind'): np.float64(5.26)},\n",
       "  2: {np.str_('Two Pairs'): np.float64(92.11),\n",
       "   np.str_('Full House'): np.float64(7.89)},\n",
       "  3: {np.str_('One Pair'): np.float64(68.42),\n",
       "   np.str_('Two Pairs'): np.float64(28.95),\n",
       "   np.str_('Three of a Kind'): np.float64(2.63)},\n",
       "  4: {np.str_('High Card'): np.float64(44.74),\n",
       "   np.str_('One Pair'): np.float64(34.21),\n",
       "   np.str_('Flush'): np.float64(21.05)},\n",
       "  5: {np.str_('High Card'): np.float64(60.53),\n",
       "   np.str_('One Pair'): np.float64(39.47)}})"
      ]
     },
     "execution_count": 16,
     "metadata": {},
     "output_type": "execute_result"
    }
   ],
   "source": [
    "holdem_game.simulate(final_hand=True)"
   ]
  },
  {
   "cell_type": "code",
   "execution_count": 17,
   "metadata": {},
   "outputs": [
    {
     "data": {
      "text/plain": [
       "{'Player 1 Current Hand': 'One Pair 8d Ks Ac Tc Ts',\n",
       " 'Player 2 Current Hand': 'Two Pairs Ad 8s 8c Kc Ks',\n",
       " 'Player 3 Current Hand': 'One Pair 8h Jc Ac Kc Ks',\n",
       " 'Player 4 Current Hand': 'High Card 3c 7c 8c Ks Ad',\n",
       " 'Player 5 Current Hand': 'High Card 7h 8c Qc Ks Ad'}"
      ]
     },
     "execution_count": 17,
     "metadata": {},
     "output_type": "execute_result"
    }
   ],
   "source": [
    "holdem_game.view_hand()"
   ]
  },
  {
   "cell_type": "code",
   "execution_count": 18,
   "metadata": {},
   "outputs": [
    {
     "name": "stderr",
     "output_type": "stream",
     "text": [
      "INFO:root:River card:  6h\n"
     ]
    }
   ],
   "source": [
    "holdem_game.next_round()"
   ]
  },
  {
   "cell_type": "code",
   "execution_count": 19,
   "metadata": {},
   "outputs": [
    {
     "data": {
      "text/plain": [
       "'Player 2 wins with a Two Pairs'"
      ]
     },
     "execution_count": 19,
     "metadata": {},
     "output_type": "execute_result"
    }
   ],
   "source": [
    "holdem_game.view_result()"
   ]
  },
  {
   "cell_type": "code",
   "execution_count": 21,
   "metadata": {},
   "outputs": [
    {
     "name": "stdout",
     "output_type": "stream",
     "text": [
      "                  Player                      Hand\n",
      "0  Player 1 Current Hand   One Pair 8d Ks Ac Tc Ts\n",
      "1  Player 2 Current Hand  Two Pairs Ad 8s 8c Kc Ks\n",
      "2  Player 3 Current Hand   One Pair 8h Jc Ac Kc Ks\n",
      "3  Player 4 Current Hand  High Card 6c 7c 8s Kd Ah\n",
      "4  Player 5 Current Hand  High Card 7h 8c Qc Ks Ad\n"
     ]
    }
   ],
   "source": [
    "import pandas as pd\n",
    "\n",
    "# Initialize an empty DataFrame to store the hands\n",
    "hands_df = pd.DataFrame(columns=['Player', 'Hand'])\n",
    "\n",
    "# Function to record hands\n",
    "def record_hands(game, hands_df):\n",
    "    hands_list = []\n",
    "    for player_id, hand in game.view_hand().items():\n",
    "        hands_list.append({'Player': player_id, 'Hand': hand})\n",
    "    hands_df = pd.concat([hands_df, pd.DataFrame(hands_list)], ignore_index=True)\n",
    "    return hands_df\n",
    "\n",
    "# Record hands for the current round\n",
    "hands_df = record_hands(holdem_game, hands_df)\n",
    "print(hands_df)"
   ]
  },
  {
   "cell_type": "markdown",
   "metadata": {},
   "source": [
    "## Omaha\n",
    "---\n",
    "\n",
    "Functions are exactly identical in Omaha. However calculations are slower in Omaha because 60 different combinations are possible with one simulation"
   ]
  },
  {
   "cell_type": "code",
   "execution_count": null,
   "metadata": {},
   "outputs": [],
   "source": [
    "omaha_game = OmahaTable(num_players=3, deck_type='short')"
   ]
  },
  {
   "cell_type": "code",
   "execution_count": null,
   "metadata": {},
   "outputs": [
    {
     "name": "stderr",
     "output_type": "stream",
     "text": [
      "INFO:root:Giving Player 1 Ac Qs Js 9c\n",
      "INFO:root:Giving Player 2 8s 7h 7s Kd\n",
      "INFO:root:Giving Player 3 Ad Jh 9h Qd\n"
     ]
    },
    {
     "data": {
      "text/plain": [
       "{'Player 1': 'Ac Qs Js 9c',\n",
       " 'Player 2': '8s 7h 7s Kd',\n",
       " 'Player 3': 'Ad Jh 9h Qd',\n",
       " 'Community Cards': ''}"
      ]
     },
     "execution_count": 21,
     "metadata": {},
     "output_type": "execute_result"
    }
   ],
   "source": [
    "omaha_game.next_round()\n",
    "omaha_game.view_table()"
   ]
  },
  {
   "cell_type": "code",
   "execution_count": null,
   "metadata": {},
   "outputs": [
    {
     "name": "stderr",
     "output_type": "stream",
     "text": [
      "INFO:root:4500000 Simulations in 4.99s\n"
     ]
    }
   ],
   "source": [
    "win_tie_loss, final_hand = omaha_game.simulate(final_hand=True)"
   ]
  },
  {
   "cell_type": "code",
   "execution_count": null,
   "metadata": {},
   "outputs": [
    {
     "data": {
      "text/plain": [
       "{'Player 1 Win': np.float64(11.09),\n",
       " 'Player 1 Tie': np.float64(36.69),\n",
       " 'Player 2 Win': np.float64(41.14),\n",
       " 'Player 2 Tie': np.float64(0.0),\n",
       " 'Player 3 Win': np.float64(11.08),\n",
       " 'Player 3 Tie': np.float64(36.69)}"
      ]
     },
     "execution_count": 23,
     "metadata": {},
     "output_type": "execute_result"
    }
   ],
   "source": [
    "win_tie_loss"
   ]
  },
  {
   "cell_type": "code",
   "execution_count": null,
   "metadata": {},
   "outputs": [
    {
     "data": {
      "text/plain": [
       "{1: {np.str_('One Pair'): np.float64(6.12),\n",
       "  np.str_('Two Pairs'): np.float64(30.2),\n",
       "  np.str_('Three of a Kind'): np.float64(6.33),\n",
       "  np.str_('Straight'): np.float64(32.51),\n",
       "  np.str_('Flush'): np.float64(14.92),\n",
       "  np.str_('Full House'): np.float64(8.98),\n",
       "  np.str_('Straight Flush'): np.float64(0.96)},\n",
       " 2: {np.str_('One Pair'): np.float64(5.68),\n",
       "  np.str_('Two Pairs'): np.float64(26.78),\n",
       "  np.str_('Three of a Kind'): np.float64(21.44),\n",
       "  np.str_('Straight'): np.float64(12.52),\n",
       "  np.str_('Flush'): np.float64(3.3),\n",
       "  np.str_('Full House'): np.float64(25.16),\n",
       "  np.str_('Four of a Kind'): np.float64(4.6),\n",
       "  np.str_('Straight Flush'): np.float64(0.51)},\n",
       " 3: {np.str_('One Pair'): np.float64(6.4),\n",
       "  np.str_('Two Pairs'): np.float64(30.54),\n",
       "  np.str_('Three of a Kind'): np.float64(6.34),\n",
       "  np.str_('Straight'): np.float64(33.02),\n",
       "  np.str_('Flush'): np.float64(13.75),\n",
       "  np.str_('Full House'): np.float64(9.0),\n",
       "  np.str_('Straight Flush'): np.float64(0.95)}}"
      ]
     },
     "execution_count": 24,
     "metadata": {},
     "output_type": "execute_result"
    }
   ],
   "source": [
    "final_hand"
   ]
  },
  {
   "cell_type": "code",
   "execution_count": null,
   "metadata": {},
   "outputs": [
    {
     "name": "stderr",
     "output_type": "stream",
     "text": [
      "INFO:root:Flop card:  6s 9d Td\n",
      "INFO:root:37800 Simulations in 0.28s\n"
     ]
    },
    {
     "data": {
      "text/plain": [
       "{'Player 1 Win': np.float64(1.9),\n",
       " 'Player 1 Tie': np.float64(36.19),\n",
       " 'Player 2 Win': np.float64(32.86),\n",
       " 'Player 2 Tie': np.float64(0.0),\n",
       " 'Player 3 Win': np.float64(29.05),\n",
       " 'Player 3 Tie': np.float64(36.19)}"
      ]
     },
     "execution_count": 25,
     "metadata": {},
     "output_type": "execute_result"
    }
   ],
   "source": [
    "omaha_game.next_round()\n",
    "omaha_game.simulate()"
   ]
  },
  {
   "cell_type": "code",
   "execution_count": null,
   "metadata": {},
   "outputs": [
    {
     "data": {
      "text/plain": [
       "'Player 2 wins with a Straight'"
      ]
     },
     "execution_count": 26,
     "metadata": {},
     "output_type": "execute_result"
    }
   ],
   "source": [
    "omaha_game.view_result()"
   ]
  },
  {
   "cell_type": "code",
   "execution_count": null,
   "metadata": {},
   "outputs": [
    {
     "data": {
      "text/plain": [
       "{'Player 1 Current Hand': 'One Pair 6c Tc As 9d 9d',\n",
       " 'Player 2 Current Hand': 'Straight 6s 7h 8s 9d Td',\n",
       " 'Player 3 Current Hand': 'One Pair 6d Th As 9d 9d'}"
      ]
     },
     "execution_count": 27,
     "metadata": {},
     "output_type": "execute_result"
    }
   ],
   "source": [
    "omaha_game.view_hand()"
   ]
  },
  {
   "cell_type": "code",
   "execution_count": null,
   "metadata": {},
   "outputs": [],
   "source": []
  }
 ],
 "metadata": {
  "kernelspec": {
   "display_name": ".venv",
   "language": "python",
   "name": "python3"
  },
  "language_info": {
   "codemirror_mode": {
    "name": "ipython",
    "version": 3
   },
   "file_extension": ".py",
   "mimetype": "text/x-python",
   "name": "python",
   "nbconvert_exporter": "python",
   "pygments_lexer": "ipython3",
   "version": "3.12.4"
  }
 },
 "nbformat": 4,
 "nbformat_minor": 2
}
