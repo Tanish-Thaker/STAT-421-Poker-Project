{
 "cells": [
  {
   "cell_type": "code",
   "execution_count": 57,
   "metadata": {},
   "outputs": [],
   "source": [
    "from table import HoldemTable, OmahaTable\n",
    "import hand\n",
    "\n",
    "\n",
    "from exceptions import *\n",
    "from utils import *\n",
    "from hand import Hand\n",
    "from ranker import *"
   ]
  },
  {
   "cell_type": "code",
   "execution_count": 84,
   "metadata": {},
   "outputs": [],
   "source": [
    "num = [\"2\", \"3\", \"4\", \"5\", \"6\", \"7\", \"8\", \"9\", \"T\", \"J\", \"Q\", \"K\", \"A\"]\n",
    "suit = [\"d\", \"c\", \"s\", \"h\"]\n",
    "a = [n + s for n in num for s in suit]\n",
    "hand_ranking_order = [\"High Card\", \"One Pair\", \"Two Pairs\", \"Three of a Kind\", \"Straight\", \"Flush\", \"Full House\", \"Four of a Kind\", \"Straight Flush\", \"Royal Flush\"]\n"
   ]
  },
  {
   "cell_type": "code",
   "execution_count": 85,
   "metadata": {},
   "outputs": [],
   "source": [
    "\n",
    "def give_odds(flop, turn, river, p1_hand, p2_hand):\n",
    "    #flop cards and calcs\n",
    "    game = HoldemTable(num_players= 2, deck_type='full')\n",
    "    game.add_to_hand(1, p1_hand)\n",
    "    game.add_to_hand(2, p2_hand)\n",
    "\n",
    "    game.add_to_community(flop)\n",
    "    community_cards, undrawn_combos = game.simulation_preparation(150000)\n",
    "    flop_strength = game.hand_strength_analysis(res_arr = game.simulate_calculation(community_cards, undrawn_combos))\n",
    "    \n",
    "    #turn cards and calcs\n",
    "    game.add_to_community(turn)\n",
    "    community_cards, undrawn_combos = game.simulation_preparation(150000)\n",
    "    turn_strength = game.hand_strength_analysis(res_arr = game.simulate_calculation(community_cards, undrawn_combos))\n",
    "\n",
    "    #river cards and calcs\n",
    "    game.add_to_community(river)\n",
    "    who_won, what_hand = winner(game)\n",
    "    return flop_strength, turn_strength, who_won, what_hand\n",
    "\n",
    "def winner(self):\n",
    "    player_rank = np.zeros(self.num_players, dtype=np.int64)\n",
    "    player_hand_type = np.zeros(self.num_players, dtype=np.int64)\n",
    "\n",
    "    for player in range(self.num_players):\n",
    "        player_combos, player_res_arr = self.player_hands[player + 1].hand_value(self.community_arr)\n",
    "        player_rank[player] = np.max(player_res_arr)\n",
    "        player_hand_type[player] = np.max(player_res_arr) // 16 ** 5\n",
    "\n",
    "    if (np.max(player_rank) == player_rank).sum() == 1:\n",
    "        if np.argmax(player_rank) + 1 == 1:\n",
    "            return np.argmax(player_rank) + 1, hand_type_dict[player_hand_type[np.argmax(player_rank)]]\n",
    "        else:\n",
    "            return 0, hand_type_dict[player_hand_type[np.argmax(player_rank)]]\n",
    "    else:\n",
    "        winners, = np.where(np.max(player_rank) == player_rank)\n",
    "        return 0.5, hand_type_dict[player_hand_type[winners[0]]]"
   ]
  },
  {
   "cell_type": "code",
   "execution_count": 86,
   "metadata": {},
   "outputs": [],
   "source": [
    "\n",
    "\n",
    "def find_vectors(flop_odds, turn_odds, winning_player, winning_hand):\n",
    "    flop_vector = [0] * len(hand_ranking_order)\n",
    "    for hand, probability in flop_odds[1].items():\n",
    "        if hand in hand_ranking_order:\n",
    "            index = hand_ranking_order.index(hand)\n",
    "            flop_vector[index] = probability \n",
    "\n",
    "    #Initialize odds vector with 0 for all possible hands\n",
    "    odds_vector = [0] * len(hand_ranking_order)\n",
    "\n",
    "    #Assuming turn_odds[1] is a dictionary mapping hand ranking names to their odds\n",
    "    for hand, probability in turn_odds[1].items():\n",
    "        if hand in hand_ranking_order:\n",
    "            index = hand_ranking_order.index(hand)\n",
    "            odds_vector[index] = probability \n",
    "\n",
    "    #winning player vector, with index of winning hand set to 1\n",
    "    win_vector = [0] * (len(hand_ranking_order) + 1)\n",
    "    if winning_hand in hand_ranking_order:\n",
    "        index = hand_ranking_order.index(hand)\n",
    "        win_vector[index] = 1\n",
    "    #last column gives 1 if player 1 wins, 0.5 if tie, and 0 if player 2 wins\n",
    "    win_vector[-1] = winning_player\n",
    "    return flop_vector, odds_vector, win_vector\n",
    "\n"
   ]
  },
  {
   "cell_type": "code",
   "execution_count": 87,
   "metadata": {},
   "outputs": [
    {
     "name": "stdout",
     "output_type": "stream",
     "text": [
      "Flop Vector:  [0, np.float64(28.79), np.float64(28.89), np.float64(5.25), np.float64(1.52), np.float64(32.63), np.float64(2.73), np.float64(0.1), np.float64(0.1), 0]\n",
      "Turn Vector:  [0, 0, 0, 0, 0, np.float64(97.73), 0, 0, np.float64(2.27), 0]\n",
      "Win Vector:  [0, 0, 0, 0, 0, 0, 0, 0, 1, 0, 0.5]\n"
     ]
    }
   ],
   "source": [
    "#Example usage\n",
    "p1hand = ['Td', 'Ts']\n",
    "p2hand = ['Ad', 'As']\n",
    "flop = ['2d', '3d', '4d']\n",
    "turn = ['5d']\n",
    "river = ['6d']\n",
    "flop_odds, turn_odds, winning_player, winning_hand = give_odds(flop, turn, river, p1hand, p2hand)\n",
    "flop_final, turn_final, win_final = find_vectors(flop_odds, turn_odds, winning_player, winning_hand)\n",
    "print(\"Flop Vector: \", flop_final)\n",
    "print(\"Turn Vector: \", turn_final)\n",
    "print(\"Win Vector: \", win_final)"
   ]
  },
  {
   "cell_type": "markdown",
   "metadata": {},
   "source": [
    "Problems: \n",
    " - VERY IMPORTANT: there is an issue with recognizing higher hands within each bracket, i.e., king high flush vs ace high flush. There is a reweighing formula, however would be difficult to implement\n",
    "    - Below is Chat's response\n",
    " - Trim this whole things down to be more computationally effective\n",
    " - compute every single permutation, roughly 4.5 trillion \n",
    " - how to get into csv\n",
    "\n",
    "Proposed Solution:\n",
    " - Rough numerical approximations"
   ]
  },
  {
   "cell_type": "code",
   "execution_count": 39,
   "metadata": {},
   "outputs": [
    {
     "name": "stdout",
     "output_type": "stream",
     "text": [
      "0.828\n",
      "0.936\n"
     ]
    }
   ],
   "source": [
    "def get_hand_weight(hand_type: str, highest_card: int) -> float:\n",
    "    \"\"\"\n",
    "    Calculate the weight of a poker hand based on its type and highest card.\n",
    "\n",
    "    Parameters:\n",
    "    hand_type (str): The type of poker hand (e.g., \"Royal Flush\", \"Straight Flush\", etc.).\n",
    "    highest_card (int): The highest card in the hand (2-14, where 14 represents an Ace).\n",
    "\n",
    "    Returns:\n",
    "    float: The weighted strength of the poker hand.\n",
    "    \"\"\"\n",
    "    base_weights = {\n",
    "        \"Royal Flush\": 1.00,\n",
    "        \"Straight Flush\": 0.95,\n",
    "        \"Four of a Kind\": 0.90,\n",
    "        \"Full House\": 0.80,\n",
    "        \"Flush\": 0.70,\n",
    "        \"Straight\": 0.60,\n",
    "        \"Three of a Kind\": 0.50,\n",
    "        \"Two Pair\": 0.35,\n",
    "        \"One Pair\": 0.20,\n",
    "        \"High Card\": 0.10,\n",
    "    }\n",
    "\n",
    "    if hand_type not in base_weights:\n",
    "        raise ValueError(\"Invalid hand type\")\n",
    "\n",
    "    base_weight = base_weights[hand_type]\n",
    "    rank_factor = 0.8 + 0.2 * (highest_card / 14)\n",
    "\n",
    "    return round(base_weight * rank_factor, 3)\n",
    "\n",
    "#Example usage:\n",
    "print(get_hand_weight(\"Straight Flush\", 5))   # Lower Straight Flush\n",
    "print(get_hand_weight(\"Straight Flush\", 13))  # Higher Straight Flush "
   ]
  },
  {
   "cell_type": "code",
   "execution_count": 103,
   "metadata": {},
   "outputs": [],
   "source": [
    "def find_value(game):\n",
    "    community_cards, undrawn_combos = game.simulation_preparation(150000)\n",
    "    strengh = game.hand_strength_analysis(res_arr = game.simulate_calculation(community_cards, undrawn_combos))\n",
    "    return strengh[1]    "
   ]
  },
  {
   "cell_type": "code",
   "execution_count": 104,
   "metadata": {},
   "outputs": [],
   "source": [
    "p1_hand = ['Td', 'Ts']\n",
    "p2_hand = ['Ad', 'As']\n",
    "flopgame = ['2d', '3d', '4d']\n",
    "game = HoldemTable(num_players= 2, deck_type='full')\n",
    "game.add_to_hand(1, p1_hand)\n",
    "game.add_to_hand(2, p2_hand)\n"
   ]
  },
  {
   "cell_type": "code",
   "execution_count": 105,
   "metadata": {},
   "outputs": [
    {
     "name": "stdout",
     "output_type": "stream",
     "text": [
      "{np.str_('One Pair'): np.float64(34.58), np.str_('Two Pairs'): np.float64(39.27), np.str_('Three of a Kind'): np.float64(12.07), np.str_('Straight'): np.float64(2.5), np.str_('Flush'): np.float64(1.56), np.str_('Full House'): np.float64(9.09), np.str_('Four of a Kind'): np.float64(0.91), np.str_('Straight Flush'): np.float64(0.02)}\n"
     ]
    }
   ],
   "source": [
    "a = (find_value(game))\n",
    "print(a)\n"
   ]
  }
 ],
 "metadata": {
  "kernelspec": {
   "display_name": ".venv",
   "language": "python",
   "name": "python3"
  },
  "language_info": {
   "codemirror_mode": {
    "name": "ipython",
    "version": 3
   },
   "file_extension": ".py",
   "mimetype": "text/x-python",
   "name": "python",
   "nbconvert_exporter": "python",
   "pygments_lexer": "ipython3",
   "version": "3.11.4"
  }
 },
 "nbformat": 4,
 "nbformat_minor": 2
}
