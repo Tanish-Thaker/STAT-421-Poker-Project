{
 "cells": [
  {
   "cell_type": "code",
   "execution_count": 38,
   "metadata": {},
   "outputs": [],
   "source": [
    "from table import HoldemTable, OmahaTable\n",
    "import hand\n",
    "\n",
    "\n",
    "from exceptions import *\n",
    "from utils import *\n",
    "from hand import Hand\n",
    "from ranker import *"
   ]
  },
  {
   "cell_type": "code",
   "execution_count": null,
   "metadata": {},
   "outputs": [
    {
     "data": {
      "text/plain": [
       "'2c'"
      ]
     },
     "execution_count": 46,
     "metadata": {},
     "output_type": "execute_result"
    }
   ],
   "source": [
    "num = [\"2\", \"3\", \"4\", \"5\", \"6\", \"7\", \"8\", \"9\", \"T\", \"J\", \"Q\", \"K\", \"A\"]\n",
    "suit = [\"d\", \"c\", \"s\", \"h\"]\n",
    "a = [n + s for n in num for s in suit]\n"
   ]
  },
  {
   "cell_type": "code",
   "execution_count": null,
   "metadata": {},
   "outputs": [
    {
     "name": "stdout",
     "output_type": "stream",
     "text": [
      "{np.str_('One Pair'): np.float64(28.79), np.str_('Two Pairs'): np.float64(28.89), np.str_('Three of a Kind'): np.float64(5.25), np.str_('Straight'): np.float64(1.52), np.str_('Flush'): np.float64(32.63), np.str_('Full House'): np.float64(2.73), np.str_('Four of a Kind'): np.float64(0.1), np.str_('Straight Flush'): np.float64(0.1)}\n",
      "{np.str_('Flush'): np.float64(97.73), np.str_('Straight Flush'): np.float64(2.27)}\n",
      "Player 1, 2 ties with a Straight Flush\n"
     ]
    }
   ],
   "source": [
    "holdem = HoldemTable(num_players= 2, deck_type='full')\n",
    "\n",
    "\n",
    "holdem.add_to_hand(1, ['Td', 'Ts'])\n",
    "holdem.add_to_hand(2, ['Ad', 'As'])\n",
    "flop = ['2d', '3d', '4d']\n",
    "turn = ['5d']\n",
    "river = ['6d']\n",
    "\n",
    "def give_odds(game, flop, turn, river):\n",
    "    #flop cards and calcs\n",
    "    game.add_to_community(flop)\n",
    "    community_cards, undrawn_combos = game.simulation_preparation(150000)\n",
    "    flop_strength = game.hand_strength_analysis(res_arr = game.simulate_calculation(community_cards, undrawn_combos))\n",
    "    \n",
    "    #turn cards and calcs\n",
    "    game.add_to_community(turn)\n",
    "    community_cards, undrawn_combos = game.simulation_preparation(150000)\n",
    "    turn_strength = game.hand_strength_analysis(res_arr = game.simulate_calculation(community_cards, undrawn_combos))\n",
    "\n",
    "    #river cards and calcs\n",
    "    game.add_to_community(river)\n",
    "    win = game.view_result()\n",
    "    return flop_strength, turn_strength, win\n",
    "\n",
    "flop_odds, turn_odds, win_odds = give_odds(holdem, flop, turn, river)\n",
    "print(flop_odds[1])\n",
    "#turn into a vector of odds, starting from high card, with 0 being if the combination isn't possible\n",
    "print(turn_odds[1])\n",
    "print(win_odds)"
   ]
  }
 ],
 "metadata": {
  "kernelspec": {
   "display_name": ".venv",
   "language": "python",
   "name": "python3"
  },
  "language_info": {
   "codemirror_mode": {
    "name": "ipython",
    "version": 3
   },
   "file_extension": ".py",
   "mimetype": "text/x-python",
   "name": "python",
   "nbconvert_exporter": "python",
   "pygments_lexer": "ipython3",
   "version": "3.11.4"
  }
 },
 "nbformat": 4,
 "nbformat_minor": 2
}
