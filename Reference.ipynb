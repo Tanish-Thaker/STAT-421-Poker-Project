{
 "cells": [
  {
   "cell_type": "markdown",
   "metadata": {},
   "source": [
    "# Let's go gambling!"
   ]
  },
  {
   "cell_type": "code",
   "execution_count": 1,
   "metadata": {},
   "outputs": [],
   "source": [
    "import texasholdem as th"
   ]
  },
  {
   "cell_type": "markdown",
   "metadata": {},
   "source": [
    "## Starting a table"
   ]
  },
  {
   "cell_type": "code",
   "execution_count": 2,
   "metadata": {},
   "outputs": [],
   "source": [
    "game = th.TexasHoldEm(buyin=500, big_blind=5, small_blind=2, max_players=2)\n",
    "game.start_hand()"
   ]
  },
  {
   "cell_type": "markdown",
   "metadata": {},
   "source": [
    "## Useful commands"
   ]
  },
  {
   "cell_type": "markdown",
   "metadata": {},
   "source": [
    "### Debuggers"
   ]
  },
  {
   "cell_type": "code",
   "execution_count": 7,
   "metadata": {},
   "outputs": [
    {
     "data": {
      "text/plain": [
       "{1: [Card(\"5s\"), Card(\"As\")], 0: [Card(\"6c\"), Card(\"Qd\")]}"
      ]
     },
     "execution_count": 7,
     "metadata": {},
     "output_type": "execute_result"
    }
   ],
   "source": [
    "game.get_available_moves()\n",
    "game.hands"
   ]
  },
  {
   "cell_type": "markdown",
   "metadata": {},
   "source": [
    "### Control Flow"
   ]
  },
  {
   "cell_type": "code",
   "execution_count": null,
   "metadata": {},
   "outputs": [
    {
     "ename": "TypeError",
     "evalue": "TexasHoldEm.total_to_value() missing 2 required positional arguments: 'total' and 'player_id'",
     "output_type": "error",
     "traceback": [
      "\u001b[1;31m---------------------------------------------------------------------------\u001b[0m",
      "\u001b[1;31mTypeError\u001b[0m                                 Traceback (most recent call last)",
      "Cell \u001b[1;32mIn[8], line 9\u001b[0m\n\u001b[0;32m      7\u001b[0m game\u001b[38;5;241m.\u001b[39mtake_action(th\u001b[38;5;241m.\u001b[39mActionType\u001b[38;5;241m.\u001b[39mCALL)\n\u001b[0;32m      8\u001b[0m game\u001b[38;5;241m.\u001b[39mvalidate_move(action \u001b[38;5;241m=\u001b[39m th\u001b[38;5;241m.\u001b[39mActionType\u001b[38;5;241m.\u001b[39mALL_IN)\n\u001b[1;32m----> 9\u001b[0m \u001b[43mgame\u001b[49m\u001b[38;5;241;43m.\u001b[39;49m\u001b[43mtotal_to_value\u001b[49m\u001b[43m(\u001b[49m\u001b[43m)\u001b[49m\n\u001b[0;32m     10\u001b[0m game\u001b[38;5;241m.\u001b[39mvalue_to_total()\n\u001b[0;32m     11\u001b[0m game\u001b[38;5;241m.\u001b[39m_is_hand_over()\n",
      "\u001b[1;31mTypeError\u001b[0m: TexasHoldEm.total_to_value() missing 2 required positional arguments: 'total' and 'player_id'"
     ]
    },
    {
     "ename": "",
     "evalue": "",
     "output_type": "error",
     "traceback": [
      "\u001b[1;31mThe Kernel crashed while executing code in the current cell or a previous cell. \n",
      "\u001b[1;31mPlease review the code in the cell(s) to identify a possible cause of the failure. \n",
      "\u001b[1;31mClick <a href='https://aka.ms/vscodeJupyterKernelCrash'>here</a> for more info. \n",
      "\u001b[1;31mView Jupyter <a href='command:jupyter.viewOutput'>log</a> for further details."
     ]
    }
   ],
   "source": [
    "game.hand_phase\n",
    "game.is_game_running()\n",
    "game.is_hand_running()\n",
    "game.current_player\n",
    "game.game_state\n",
    "game.min_raise()\n",
    "game.take_action(th.ActionType.CALL)\n",
    "game.validate_move(action = th.ActionType.ALL_IN)\n",
    "game.total_to_value()\n",
    "game.value_to_total()\n",
    "game._is_hand_over()"
   ]
  },
  {
   "cell_type": "markdown",
   "metadata": {},
   "source": [
    "### Features"
   ]
  },
  {
   "cell_type": "code",
   "execution_count": null,
   "metadata": {},
   "outputs": [
    {
     "data": {
      "text/plain": [
       "[Card(\"Kd\"), Card(\"Jd\")]"
      ]
     },
     "execution_count": 11,
     "metadata": {},
     "output_type": "execute_result"
    }
   ],
   "source": [
    "# gets player's cards\n",
    "game.get_hand(0)\n",
    "\n",
    "# total chips in pot and chips needed to call\n",
    "game.chips_at_stake(0)\n",
    "game.chips_to_call(0)\n",
    "\n",
    "# size of last raise and player's total amount of bets over the match\n",
    "game.last_raise\n",
    "game.player_bet_amount(0)\n",
    "\n",
    "# locations of dealer, big blind, and small blind\n",
    "game.btn_loc\n",
    "game.bb_loc\n",
    "game.sb_loc\n",
    "\n",
    "# last action taken\n",
    "game.action\n",
    "\n",
    "# dictionary for card conversions\n",
    "th.Card.CHAR_RANK_TO_INT_RANK\n",
    "th.Card.CHAR_SUIT_TO_INT_SUIT\n",
    "\n",
    "# card values\n",
    "th.Card.rank\n",
    "th.Card.suit\n",
    "\n",
    "# get community cards\n",
    "game.board\n",
    "\n",
    "# get the stage of betting (preflop, flop, turn, river, settle)\n",
    "game.hand_phase.name"
   ]
  },
  {
   "cell_type": "markdown",
   "metadata": {},
   "source": [
    "### Unknowns (could be useful)"
   ]
  },
  {
   "cell_type": "code",
   "execution_count": null,
   "metadata": {},
   "outputs": [
    {
     "data": {
      "text/plain": [
       "1"
      ]
     },
     "execution_count": 16,
     "metadata": {},
     "output_type": "execute_result"
    }
   ],
   "source": [
    "# game.num_hands\n",
    "# game.raise_option\n",
    "# game._betting_round(th.HandPhase.RIVER)"
   ]
  }
 ],
 "metadata": {
  "kernelspec": {
   "display_name": ".venv",
   "language": "python",
   "name": "python3"
  },
  "language_info": {
   "codemirror_mode": {
    "name": "ipython",
    "version": 3
   },
   "file_extension": ".py",
   "mimetype": "text/x-python",
   "name": "python",
   "nbconvert_exporter": "python",
   "pygments_lexer": "ipython3",
   "version": "3.11.4"
  }
 },
 "nbformat": 4,
 "nbformat_minor": 2
}
