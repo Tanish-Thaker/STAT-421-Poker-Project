{
 "cells": [
  {
   "cell_type": "code",
   "execution_count": null,
   "metadata": {},
<<<<<<< Updated upstream
   "outputs": [],
   "source": []
=======
   "source": [
    "#### Necessary Features\n",
    "EV of hand\n",
    "  * distribution of odds\n",
    "    * current hand\n",
    "    * river(community cards)\n",
    "  * Risk and Reward\n",
    "    * how much has been put into the pot by each opponent and the bot\n",
    "\n",
    "Chips at stake\\\n",
    "Number of opponents chips at stake\\\n",
    "Percentage of personal total pot\\\n",
    "Opponent Analysis\n",
    "  * Percentage of stake\n",
    "\n",
    "#### Features Disregarded\n",
    "34        : do I have the button?\\\n",
    "35        : do I have big blind?\\\n",
    "36        : do I have small blind?\\\n",
    "37        : number of my chips at stake\\\n",
    "38        : number of opponent's chips at stake\\\n",
    "39        : number of chips I need to call\\\n",
    "40        : size of last raise\\\n",
    "41 - 45   : one-hot encoded opponent's last action\\\n",
    "46 - 49   : one-hot encoded suit of first community card (if exists)\\\n",
    "50 - 62   : one-hot encoded rank of first community card (if exists)\\\n",
    "63 - 66   : one-hot encoded suit of second community card (if exists)\\\n",
    "67 - 79   : one-hot encoded rank of second community card (if exists)\\\n",
    "80 - 83   : one-hot encoded suit of third community card (if exists)\\\n",
    "84 - 96   : one-hot encoded rank of third community card (if exists)\\\n",
    "97 - 100  : one-hot encoded suit of fourth community card (if exists)\\\n",
    "101 - 113 : one-hot encoded rank of fourth community card (if exists)\\\n",
    "114 - 117 : one-hot encoded suit of fifth community card (if exists)\\\n",
    "118 - 130 : one-hot encoded rank of fifth community card (if exists)\\\n",
    "\n",
    "#### Additional comments:\n",
    "Randomness inversely proportional to money"
   ]
>>>>>>> Stashed changes
  }
 ],
 "metadata": {
  "language_info": {
   "name": "python"
  }
 },
 "nbformat": 4,
 "nbformat_minor": 2
}
