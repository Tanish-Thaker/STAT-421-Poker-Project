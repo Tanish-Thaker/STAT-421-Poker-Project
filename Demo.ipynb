{
 "cells": [
  {
   "cell_type": "code",
   "execution_count": 1,
   "metadata": {},
   "outputs": [],
   "source": [
    "from table import HoldemTable, OmahaTable"
   ]
  },
  {
   "cell_type": "markdown",
   "metadata": {},
   "source": [
    "# PokerOddsCalc\n",
    "\n",
    "---\n",
    "\n",
    "**PokerOddsCalc** is a simple poker hand probability calculation tool that supports Texas Holdem and Omaha.\n",
    "\n",
    "\n",
    "### Initialization\n",
    "\n",
    "--- \n",
    "\n",
    "Initialize with number of players and deck type(full or short deck(6 and above))"
   ]
  },
  {
   "cell_type": "code",
   "execution_count": 2,
   "metadata": {},
   "outputs": [],
   "source": [
    "holdem_game = HoldemTable(num_players=5, deck_type='full')"
   ]
  },
  {
   "cell_type": "markdown",
   "metadata": {},
   "source": [
    "### Deal Player Cards\n",
    "\n",
    "--- \n",
    "\n",
    "- Can Either Manually Add or Random Hand out Cards\n",
    "- Check the Current Table"
   ]
  },
  {
   "cell_type": "code",
   "execution_count": 3,
   "metadata": {},
   "outputs": [],
   "source": [
    "holdem_game.add_to_hand(1, ['Td', 'Ts'])"
   ]
  },
  {
   "cell_type": "code",
   "execution_count": 4,
   "metadata": {},
   "outputs": [
    {
     "name": "stderr",
     "output_type": "stream",
     "text": [
      "INFO:root:Giving Player 2 6h 6c\n",
      "INFO:root:Giving Player 3 Ad As\n",
      "INFO:root:Giving Player 4 Jh Tc\n",
      "INFO:root:Giving Player 5 5s 2c\n"
     ]
    }
   ],
   "source": [
    "holdem_game.next_round() # Will hand out remaining players starting hand"
   ]
  },
  {
   "cell_type": "code",
   "execution_count": 5,
   "metadata": {},
   "outputs": [
    {
     "data": {
      "text/plain": [
       "{'Player 1': 'Td Ts',\n",
       " 'Player 2': '6h 6c',\n",
       " 'Player 3': 'Ad As',\n",
       " 'Player 4': 'Jh Tc',\n",
       " 'Player 5': '5s 2c',\n",
       " 'Community Cards': ''}"
      ]
     },
     "execution_count": 5,
     "metadata": {},
     "output_type": "execute_result"
    }
   ],
   "source": [
    "holdem_game.view_table()"
   ]
  },
  {
   "cell_type": "markdown",
   "metadata": {},
   "source": [
    "### Simulation\n",
    "\n",
    "--- \n",
    "\n",
    "- Set Number of Scenarios, default is 150000 for Holdem and 25000 for Omaha\n",
    "- Return Final Hand Probability\n",
    "- Return Three Types of Odds Calculation (Default is tie_win)\n",
    "    - win_any, any win counts as a win scenario for a player\n",
    "    - tie_win, any exclusive win counts as win, any tied win or tie counts as a tie\n",
    "    - precise, every possible outcome"
   ]
  },
  {
   "cell_type": "code",
   "execution_count": 6,
   "metadata": {},
   "outputs": [
    {
     "name": "stderr",
     "output_type": "stream",
     "text": [
      "INFO:root:15750000 Simulations in 3.21s\n"
     ]
    },
    {
     "data": {
      "text/plain": [
       "{'Player 1 Win': np.float64(8.19),\n",
       " 'Player 1 Tie': np.float64(2.27),\n",
       " 'Player 2 Win': np.float64(15.05),\n",
       " 'Player 2 Tie': np.float64(0.18),\n",
       " 'Player 3 Win': np.float64(51.7),\n",
       " 'Player 3 Tie': np.float64(0.18),\n",
       " 'Player 4 Win': np.float64(13.07),\n",
       " 'Player 4 Tie': np.float64(2.27),\n",
       " 'Player 5 Win': np.float64(9.72),\n",
       " 'Player 5 Tie': np.float64(0.18)}"
      ]
     },
     "execution_count": 6,
     "metadata": {},
     "output_type": "execute_result"
    }
   ],
   "source": [
    "holdem_game.simulate()"
   ]
  },
  {
   "cell_type": "code",
   "execution_count": 7,
   "metadata": {},
   "outputs": [
    {
     "ename": "OSError",
     "evalue": "[WinError 1450] Insufficient system resources exist to complete the requested service",
     "output_type": "error",
     "traceback": [
      "\u001b[1;31m---------------------------------------------------------------------------\u001b[0m",
      "\u001b[1;31mOSError\u001b[0m                                   Traceback (most recent call last)",
      "Cell \u001b[1;32mIn[7], line 1\u001b[0m\n\u001b[1;32m----> 1\u001b[0m \u001b[43mholdem_game\u001b[49m\u001b[38;5;241;43m.\u001b[39;49m\u001b[43msimulate\u001b[49m\u001b[43m(\u001b[49m\u001b[43mnum_scenarios\u001b[49m\u001b[38;5;241;43m=\u001b[39;49m\u001b[38;5;241;43m500000\u001b[39;49m\u001b[43m,\u001b[49m\u001b[43m \u001b[49m\u001b[43modds_type\u001b[49m\u001b[38;5;241;43m=\u001b[39;49m\u001b[38;5;124;43m'\u001b[39;49m\u001b[38;5;124;43mprecise\u001b[39;49m\u001b[38;5;124;43m'\u001b[39;49m\u001b[43m)\u001b[49m\n",
      "File \u001b[1;32mc:\\Users\\daniel\\Documents\\GitHub\\STAT-421-Poker-Project\\PokerOddsCalc\\table.py:202\u001b[0m, in \u001b[0;36mHoldemTable.simulate\u001b[1;34m(self, num_scenarios, odds_type, final_hand)\u001b[0m\n\u001b[0;32m    197\u001b[0m community_cards, undrawn_combos \u001b[38;5;241m=\u001b[39m \u001b[38;5;28mself\u001b[39m\u001b[38;5;241m.\u001b[39msimulation_preparation(num_scenarios)\n\u001b[0;32m    198\u001b[0m \u001b[38;5;66;03m# end = timeit.default_timer()\u001b[39;00m\n\u001b[0;32m    199\u001b[0m \u001b[38;5;66;03m# logging.info(f\"Generate Hand Combinations Time Cost: {end - start}s\")\u001b[39;00m\n\u001b[0;32m    200\u001b[0m \n\u001b[0;32m    201\u001b[0m \u001b[38;5;66;03m# start = timeit.default_timer()\u001b[39;00m\n\u001b[1;32m--> 202\u001b[0m res_arr \u001b[38;5;241m=\u001b[39m \u001b[38;5;28;43mself\u001b[39;49m\u001b[38;5;241;43m.\u001b[39;49m\u001b[43msimulate_calculation\u001b[49m\u001b[43m(\u001b[49m\u001b[43mcommunity_cards\u001b[49m\u001b[43m,\u001b[49m\u001b[43m \u001b[49m\u001b[43mundrawn_combos\u001b[49m\u001b[43m)\u001b[49m\n\u001b[0;32m    203\u001b[0m \u001b[38;5;66;03m# end = timeit.default_timer()\u001b[39;00m\n\u001b[0;32m    204\u001b[0m \u001b[38;5;66;03m# logging.info(f\"Calculation Time Cost: {end - start}s\")\u001b[39;00m\n\u001b[0;32m    205\u001b[0m outcome_dict \u001b[38;5;241m=\u001b[39m \u001b[38;5;28mself\u001b[39m\u001b[38;5;241m.\u001b[39msimulation_analysis(odds_type, res_arr)\n",
      "File \u001b[1;32mc:\\Users\\daniel\\Documents\\GitHub\\STAT-421-Poker-Project\\PokerOddsCalc\\table.py:218\u001b[0m, in \u001b[0;36mHoldemTable.simulate_calculation\u001b[1;34m(self, community_cards, undrawn_combos)\u001b[0m\n\u001b[0;32m    216\u001b[0m res_arr \u001b[38;5;241m=\u001b[39m np\u001b[38;5;241m.\u001b[39mzeros(shape\u001b[38;5;241m=\u001b[39m(\u001b[38;5;28mlen\u001b[39m(undrawn_combos), \u001b[38;5;28mself\u001b[39m\u001b[38;5;241m.\u001b[39mnum_players), dtype\u001b[38;5;241m=\u001b[39mnp\u001b[38;5;241m.\u001b[39mint64)\n\u001b[0;32m    217\u001b[0m \u001b[38;5;28;01mif\u001b[39;00m \u001b[38;5;28mself\u001b[39m\u001b[38;5;241m.\u001b[39mnum_players \u001b[38;5;241m>\u001b[39m\u001b[38;5;241m=\u001b[39m \u001b[38;5;241m2\u001b[39m:\n\u001b[1;32m--> 218\u001b[0m     \u001b[43mParallel\u001b[49m\u001b[43m(\u001b[49m\u001b[43mn_jobs\u001b[49m\u001b[38;5;241;43m=\u001b[39;49m\u001b[43mmultiprocessing\u001b[49m\u001b[38;5;241;43m.\u001b[39;49m\u001b[43mcpu_count\u001b[49m\u001b[43m(\u001b[49m\u001b[43m)\u001b[49m\u001b[43m,\u001b[49m\u001b[43m \u001b[49m\u001b[43mbackend\u001b[49m\u001b[38;5;241;43m=\u001b[39;49m\u001b[38;5;124;43m\"\u001b[39;49m\u001b[38;5;124;43mthreading\u001b[39;49m\u001b[38;5;124;43m\"\u001b[39;49m\u001b[43m)\u001b[49m\u001b[43m \u001b[49m\u001b[43m\\\u001b[49m\n\u001b[0;32m    219\u001b[0m \u001b[43m        \u001b[49m\u001b[43m(\u001b[49m\u001b[43mdelayed\u001b[49m\u001b[43m(\u001b[49m\u001b[38;5;28;43mself\u001b[39;49m\u001b[38;5;241;43m.\u001b[39;49m\u001b[43mgen_single_hand\u001b[49m\u001b[43m)\u001b[49m\u001b[43m(\u001b[49m\u001b[43mcommunity_cards\u001b[49m\u001b[43m,\u001b[49m\u001b[43m \u001b[49m\u001b[43mplayer\u001b[49m\u001b[43m,\u001b[49m\u001b[43m \u001b[49m\u001b[43mundrawn_combos\u001b[49m\u001b[43m,\u001b[49m\u001b[43m \u001b[49m\u001b[43mres_arr\u001b[49m\u001b[43m)\u001b[49m\u001b[43m \u001b[49m\u001b[38;5;28;43;01mfor\u001b[39;49;00m\u001b[43m \u001b[49m\u001b[43mplayer\u001b[49m\u001b[43m \u001b[49m\u001b[38;5;129;43;01min\u001b[39;49;00m\u001b[43m \u001b[49m\u001b[38;5;28;43mrange\u001b[39;49m\u001b[43m(\u001b[49m\u001b[38;5;28;43mself\u001b[39;49m\u001b[38;5;241;43m.\u001b[39;49m\u001b[43mnum_players\u001b[49m\u001b[43m)\u001b[49m\u001b[43m)\u001b[49m\n\u001b[0;32m    220\u001b[0m \u001b[38;5;28;01melse\u001b[39;00m:\n\u001b[0;32m    221\u001b[0m     \u001b[38;5;28;01mfor\u001b[39;00m player \u001b[38;5;129;01min\u001b[39;00m \u001b[38;5;28mrange\u001b[39m(\u001b[38;5;28mself\u001b[39m\u001b[38;5;241m.\u001b[39mnum_players):\n",
      "File \u001b[1;32mc:\\Users\\daniel\\Documents\\GitHub\\STAT335\\.venv\\Lib\\site-packages\\joblib\\parallel.py:2007\u001b[0m, in \u001b[0;36mParallel.__call__\u001b[1;34m(self, iterable)\u001b[0m\n\u001b[0;32m   2001\u001b[0m \u001b[38;5;66;03m# The first item from the output is blank, but it makes the interpreter\u001b[39;00m\n\u001b[0;32m   2002\u001b[0m \u001b[38;5;66;03m# progress until it enters the Try/Except block of the generator and\u001b[39;00m\n\u001b[0;32m   2003\u001b[0m \u001b[38;5;66;03m# reaches the first `yield` statement. This starts the asynchronous\u001b[39;00m\n\u001b[0;32m   2004\u001b[0m \u001b[38;5;66;03m# dispatch of the tasks to the workers.\u001b[39;00m\n\u001b[0;32m   2005\u001b[0m \u001b[38;5;28mnext\u001b[39m(output)\n\u001b[1;32m-> 2007\u001b[0m \u001b[38;5;28;01mreturn\u001b[39;00m output \u001b[38;5;28;01mif\u001b[39;00m \u001b[38;5;28mself\u001b[39m\u001b[38;5;241m.\u001b[39mreturn_generator \u001b[38;5;28;01melse\u001b[39;00m \u001b[38;5;28;43mlist\u001b[39;49m\u001b[43m(\u001b[49m\u001b[43moutput\u001b[49m\u001b[43m)\u001b[49m\n",
      "File \u001b[1;32mc:\\Users\\daniel\\Documents\\GitHub\\STAT335\\.venv\\Lib\\site-packages\\joblib\\parallel.py:1650\u001b[0m, in \u001b[0;36mParallel._get_outputs\u001b[1;34m(self, iterator, pre_dispatch)\u001b[0m\n\u001b[0;32m   1647\u001b[0m     \u001b[38;5;28;01myield\u001b[39;00m\n\u001b[0;32m   1649\u001b[0m     \u001b[38;5;28;01mwith\u001b[39;00m \u001b[38;5;28mself\u001b[39m\u001b[38;5;241m.\u001b[39m_backend\u001b[38;5;241m.\u001b[39mretrieval_context():\n\u001b[1;32m-> 1650\u001b[0m         \u001b[38;5;28;01myield from\u001b[39;00m \u001b[38;5;28mself\u001b[39m\u001b[38;5;241m.\u001b[39m_retrieve()\n\u001b[0;32m   1652\u001b[0m \u001b[38;5;28;01mexcept\u001b[39;00m \u001b[38;5;167;01mGeneratorExit\u001b[39;00m:\n\u001b[0;32m   1653\u001b[0m     \u001b[38;5;66;03m# The generator has been garbage collected before being fully\u001b[39;00m\n\u001b[0;32m   1654\u001b[0m     \u001b[38;5;66;03m# consumed. This aborts the remaining tasks if possible and warn\u001b[39;00m\n\u001b[0;32m   1655\u001b[0m     \u001b[38;5;66;03m# the user if necessary.\u001b[39;00m\n\u001b[0;32m   1656\u001b[0m     \u001b[38;5;28mself\u001b[39m\u001b[38;5;241m.\u001b[39m_exception \u001b[38;5;241m=\u001b[39m \u001b[38;5;28;01mTrue\u001b[39;00m\n",
      "File \u001b[1;32mc:\\Users\\daniel\\Documents\\GitHub\\STAT335\\.venv\\Lib\\site-packages\\joblib\\parallel.py:1762\u001b[0m, in \u001b[0;36mParallel._retrieve\u001b[1;34m(self)\u001b[0m\n\u001b[0;32m   1757\u001b[0m \u001b[38;5;66;03m# If the next job is not ready for retrieval yet, we just wait for\u001b[39;00m\n\u001b[0;32m   1758\u001b[0m \u001b[38;5;66;03m# async callbacks to progress.\u001b[39;00m\n\u001b[0;32m   1759\u001b[0m \u001b[38;5;28;01mif\u001b[39;00m ((\u001b[38;5;28mlen\u001b[39m(\u001b[38;5;28mself\u001b[39m\u001b[38;5;241m.\u001b[39m_jobs) \u001b[38;5;241m==\u001b[39m \u001b[38;5;241m0\u001b[39m) \u001b[38;5;129;01mor\u001b[39;00m\n\u001b[0;32m   1760\u001b[0m     (\u001b[38;5;28mself\u001b[39m\u001b[38;5;241m.\u001b[39m_jobs[\u001b[38;5;241m0\u001b[39m]\u001b[38;5;241m.\u001b[39mget_status(\n\u001b[0;32m   1761\u001b[0m         timeout\u001b[38;5;241m=\u001b[39m\u001b[38;5;28mself\u001b[39m\u001b[38;5;241m.\u001b[39mtimeout) \u001b[38;5;241m==\u001b[39m TASK_PENDING)):\n\u001b[1;32m-> 1762\u001b[0m     time\u001b[38;5;241m.\u001b[39msleep(\u001b[38;5;241m0.01\u001b[39m)\n\u001b[0;32m   1763\u001b[0m     \u001b[38;5;28;01mcontinue\u001b[39;00m\n\u001b[0;32m   1765\u001b[0m \u001b[38;5;66;03m# We need to be careful: the job list can be filling up as\u001b[39;00m\n\u001b[0;32m   1766\u001b[0m \u001b[38;5;66;03m# we empty it and Python list are not thread-safe by\u001b[39;00m\n\u001b[0;32m   1767\u001b[0m \u001b[38;5;66;03m# default hence the use of the lock\u001b[39;00m\n",
      "\u001b[1;31mOSError\u001b[0m: [WinError 1450] Insufficient system resources exist to complete the requested service"
     ]
    }
   ],
   "source": [
    "holdem_game.simulate(num_scenarios=500000, odds_type='precise')"
   ]
  },
  {
   "cell_type": "code",
   "execution_count": 8,
   "metadata": {},
   "outputs": [
    {
     "name": "stderr",
     "output_type": "stream",
     "text": [
      "INFO:root:15750000 Simulations in 3.84s\n"
     ]
    },
    {
     "data": {
      "text/plain": [
       "{'Tie': np.float64(0.19),\n",
       " 'Player 1': np.float64(29.82),\n",
       " 'Player 2': np.float64(9.82),\n",
       " 'Player 3': np.float64(24.63),\n",
       " 'Player 4': np.float64(18.36),\n",
       " 'Player 5': np.float64(18.91)}"
      ]
     },
     "execution_count": 8,
     "metadata": {},
     "output_type": "execute_result"
    }
   ],
   "source": [
    "holdem_game.simulate(odds_type='win_any')"
   ]
  },
  {
   "cell_type": "code",
   "execution_count": 9,
   "metadata": {},
   "outputs": [
    {
     "name": "stderr",
     "output_type": "stream",
     "text": [
      "INFO:root:15750000 Simulations in 3.82s\n"
     ]
    },
    {
     "data": {
      "text/plain": [
       "{1: {np.str_('One Pair'): np.float64(33.8),\n",
       "  np.str_('Two Pairs'): np.float64(37.36),\n",
       "  np.str_('Three of a Kind'): np.float64(13.83),\n",
       "  np.str_('Straight'): np.float64(2.33),\n",
       "  np.str_('Flush'): np.float64(2.13),\n",
       "  np.str_('Full House'): np.float64(9.41),\n",
       "  np.str_('Four of a Kind'): np.float64(1.13),\n",
       "  np.str_('Straight Flush'): np.float64(0.02)},\n",
       " 2: {np.str_('High Card'): np.float64(19.91),\n",
       "  np.str_('One Pair'): np.float64(46.05),\n",
       "  np.str_('Two Pairs'): np.float64(22.64),\n",
       "  np.str_('Three of a Kind'): np.float64(4.32),\n",
       "  np.str_('Straight'): np.float64(2.78),\n",
       "  np.str_('Flush'): np.float64(2.15),\n",
       "  np.str_('Full House'): np.float64(2.05),\n",
       "  np.str_('Four of a Kind'): np.float64(0.1),\n",
       "  np.str_('Straight Flush'): np.float64(0.0)},\n",
       " 3: {np.str_('High Card'): np.float64(19.67),\n",
       "  np.str_('One Pair'): np.float64(45.73),\n",
       "  np.str_('Two Pairs'): np.float64(22.41),\n",
       "  np.str_('Three of a Kind'): np.float64(4.2),\n",
       "  np.str_('Straight'): np.float64(3.7),\n",
       "  np.str_('Flush'): np.float64(2.12),\n",
       "  np.str_('Full House'): np.float64(2.04),\n",
       "  np.str_('Four of a Kind'): np.float64(0.1),\n",
       "  np.str_('Straight Flush'): np.float64(0.02)},\n",
       " 4: {np.str_('High Card'): np.float64(14.29),\n",
       "  np.str_('One Pair'): np.float64(39.83),\n",
       "  np.str_('Two Pairs'): np.float64(24.11),\n",
       "  np.str_('Three of a Kind'): np.float64(5.05),\n",
       "  np.str_('Straight'): np.float64(5.61),\n",
       "  np.str_('Flush'): np.float64(7.72),\n",
       "  np.str_('Full House'): np.float64(3.02),\n",
       "  np.str_('Four of a Kind'): np.float64(0.18),\n",
       "  np.str_('Straight Flush'): np.float64(0.17)},\n",
       " 5: {np.str_('High Card'): np.float64(16.42),\n",
       "  np.str_('One Pair'): np.float64(44.12),\n",
       "  np.str_('Two Pairs'): np.float64(25.36),\n",
       "  np.str_('Three of a Kind'): np.float64(5.19),\n",
       "  np.str_('Straight'): np.float64(3.49),\n",
       "  np.str_('Flush'): np.float64(2.15),\n",
       "  np.str_('Full House'): np.float64(3.05),\n",
       "  np.str_('Four of a Kind'): np.float64(0.2),\n",
       "  np.str_('Straight Flush'): np.float64(0.02)}}"
      ]
     },
     "execution_count": 9,
     "metadata": {},
     "output_type": "execute_result"
    }
   ],
   "source": [
    "win_draw_loss, final_hand = holdem_game.simulate(final_hand=True)\n",
    "final_hand"
   ]
  },
  {
   "cell_type": "markdown",
   "metadata": {},
   "source": [
    "### Next Round\n",
    "\n",
    "--- \n",
    "\n",
    "- Run Next Round and Update Odds\n",
    "- Check Game Result\n",
    "- Check Current Best Hand for each player"
   ]
  },
  {
   "cell_type": "code",
   "execution_count": 10,
   "metadata": {},
   "outputs": [
    {
     "name": "stderr",
     "output_type": "stream",
     "text": [
      "INFO:root:Flop card:  Kc 8c As\n"
     ]
    }
   ],
   "source": [
    "holdem_game.next_round()"
   ]
  },
  {
   "cell_type": "code",
   "execution_count": 11,
   "metadata": {},
   "outputs": [
    {
     "data": {
      "text/plain": [
       "'Player 2 wins with a Two Pairs'"
      ]
     },
     "execution_count": 11,
     "metadata": {},
     "output_type": "execute_result"
    }
   ],
   "source": [
    "holdem_game.view_result()"
   ]
  },
  {
   "cell_type": "code",
   "execution_count": 12,
   "metadata": {},
   "outputs": [
    {
     "data": {
      "text/plain": [
       "{'Player 1 Current Hand': 'One Pair 8d Ks Ac Tc Ts',\n",
       " 'Player 2 Current Hand': 'Two Pairs Ad 8s 8c Kc Ks',\n",
       " 'Player 3 Current Hand': 'One Pair 8h Jc Ac Kc Ks',\n",
       " 'Player 4 Current Hand': 'High Card 2c 3c 8c Kc As',\n",
       " 'Player 5 Current Hand': 'High Card 5h 8d Qc Kc As'}"
      ]
     },
     "execution_count": 12,
     "metadata": {},
     "output_type": "execute_result"
    }
   ],
   "source": [
    "holdem_game.view_hand()"
   ]
  },
  {
   "cell_type": "code",
   "execution_count": 13,
   "metadata": {},
   "outputs": [
    {
     "name": "stderr",
     "output_type": "stream",
     "text": [
      "INFO:root:77805 Simulations in 0.23s\n"
     ]
    },
    {
     "data": {
      "text/plain": [
       "{'Player 1 Win': np.float64(4.99),\n",
       " 'Player 1 Tie': np.float64(0.0),\n",
       " 'Player 2 Win': np.float64(41.03),\n",
       " 'Player 2 Tie': np.float64(2.43),\n",
       " 'Player 3 Win': np.float64(19.84),\n",
       " 'Player 3 Tie': np.float64(2.43),\n",
       " 'Player 4 Win': np.float64(31.04),\n",
       " 'Player 4 Tie': np.float64(0.0),\n",
       " 'Player 5 Win': np.float64(0.67),\n",
       " 'Player 5 Tie': np.float64(0.0)}"
      ]
     },
     "execution_count": 13,
     "metadata": {},
     "output_type": "execute_result"
    }
   ],
   "source": [
    "holdem_game.simulate()"
   ]
  },
  {
   "cell_type": "code",
   "execution_count": 14,
   "metadata": {},
   "outputs": [
    {
     "name": "stderr",
     "output_type": "stream",
     "text": [
      "INFO:root:Turn card:  7d\n"
     ]
    }
   ],
   "source": [
    "holdem_game.next_round()"
   ]
  },
  {
   "cell_type": "code",
   "execution_count": 15,
   "metadata": {},
   "outputs": [
    {
     "data": {
      "text/plain": [
       "'Player 2 wins with a Two Pairs'"
      ]
     },
     "execution_count": 15,
     "metadata": {},
     "output_type": "execute_result"
    }
   ],
   "source": [
    "holdem_game.view_result()"
   ]
  },
  {
   "cell_type": "code",
   "execution_count": 16,
   "metadata": {},
   "outputs": [
    {
     "name": "stderr",
     "output_type": "stream",
     "text": [
      "INFO:root:3990 Simulations in 0.09s\n"
     ]
    },
    {
     "data": {
      "text/plain": [
       "({'Player 1 Win': np.float64(2.63),\n",
       "  'Player 1 Tie': np.float64(0.0),\n",
       "  'Player 2 Win': np.float64(57.89),\n",
       "  'Player 2 Tie': np.float64(0.0),\n",
       "  'Player 3 Win': np.float64(18.42),\n",
       "  'Player 3 Tie': np.float64(0.0),\n",
       "  'Player 4 Win': np.float64(21.05),\n",
       "  'Player 4 Tie': np.float64(0.0),\n",
       "  'Player 5 Win': np.float64(0.0),\n",
       "  'Player 5 Tie': np.float64(0.0)},\n",
       " {1: {np.str_('One Pair'): np.float64(71.05),\n",
       "   np.str_('Two Pairs'): np.float64(23.68),\n",
       "   np.str_('Three of a Kind'): np.float64(5.26)},\n",
       "  2: {np.str_('Two Pairs'): np.float64(92.11),\n",
       "   np.str_('Full House'): np.float64(7.89)},\n",
       "  3: {np.str_('One Pair'): np.float64(68.42),\n",
       "   np.str_('Two Pairs'): np.float64(28.95),\n",
       "   np.str_('Three of a Kind'): np.float64(2.63)},\n",
       "  4: {np.str_('High Card'): np.float64(44.74),\n",
       "   np.str_('One Pair'): np.float64(34.21),\n",
       "   np.str_('Flush'): np.float64(21.05)},\n",
       "  5: {np.str_('High Card'): np.float64(60.53),\n",
       "   np.str_('One Pair'): np.float64(39.47)}})"
      ]
     },
     "execution_count": 16,
     "metadata": {},
     "output_type": "execute_result"
    }
   ],
   "source": [
    "holdem_game.simulate(final_hand=True)"
   ]
  },
  {
   "cell_type": "code",
   "execution_count": 17,
   "metadata": {},
   "outputs": [
    {
     "data": {
      "text/plain": [
       "{'Player 1 Current Hand': 'One Pair 8d Ks Ac Tc Ts',\n",
       " 'Player 2 Current Hand': 'Two Pairs Ad 8s 8c Kc Ks',\n",
       " 'Player 3 Current Hand': 'One Pair 8h Jc Ac Kc Ks',\n",
       " 'Player 4 Current Hand': 'High Card 3c 7c 8c Ks Ad',\n",
       " 'Player 5 Current Hand': 'High Card 7h 8c Qc Ks Ad'}"
      ]
     },
     "execution_count": 17,
     "metadata": {},
     "output_type": "execute_result"
    }
   ],
   "source": [
    "holdem_game.view_hand()"
   ]
  },
  {
   "cell_type": "code",
   "execution_count": 18,
   "metadata": {},
   "outputs": [
    {
     "name": "stderr",
     "output_type": "stream",
     "text": [
      "INFO:root:River card:  6h\n"
     ]
    }
   ],
   "source": [
    "holdem_game.next_round()"
   ]
  },
  {
   "cell_type": "code",
   "execution_count": 19,
   "metadata": {},
   "outputs": [
    {
     "data": {
      "text/plain": [
       "'Player 2 wins with a Two Pairs'"
      ]
     },
     "execution_count": 19,
     "metadata": {},
     "output_type": "execute_result"
    }
   ],
   "source": [
    "holdem_game.view_result()"
   ]
  },
  {
   "cell_type": "code",
   "execution_count": 21,
   "metadata": {},
   "outputs": [
    {
     "name": "stdout",
     "output_type": "stream",
     "text": [
      "                  Player                      Hand\n",
      "0  Player 1 Current Hand   One Pair 8d Ks Ac Tc Ts\n",
      "1  Player 2 Current Hand  Two Pairs Ad 8s 8c Kc Ks\n",
      "2  Player 3 Current Hand   One Pair 8h Jc Ac Kc Ks\n",
      "3  Player 4 Current Hand  High Card 6c 7c 8s Kd Ah\n",
      "4  Player 5 Current Hand  High Card 7h 8c Qc Ks Ad\n"
     ]
    }
   ],
   "source": [
    "import pandas as pd\n",
    "\n",
    "# Initialize an empty DataFrame to store the hands\n",
    "hands_df = pd.DataFrame(columns=['Player', 'Hand'])\n",
    "\n",
    "# Function to record hands\n",
    "def record_hands(game, hands_df):\n",
    "    hands_list = []\n",
    "    for player_id, hand in game.view_hand().items():\n",
    "        hands_list.append({'Player': player_id, 'Hand': hand})\n",
    "    hands_df = pd.concat([hands_df, pd.DataFrame(hands_list)], ignore_index=True)\n",
    "    return hands_df\n",
    "\n",
    "# Record hands for the current round\n",
    "hands_df = record_hands(holdem_game, hands_df)\n",
    "print(hands_df)"
   ]
  },
  {
   "cell_type": "markdown",
   "metadata": {},
   "source": [
    "## Omaha\n",
    "---\n",
    "\n",
    "Functions are exactly identical in Omaha. However calculations are slower in Omaha because 60 different combinations are possible with one simulation"
   ]
  },
  {
   "cell_type": "code",
   "execution_count": null,
   "metadata": {},
   "outputs": [],
   "source": [
    "omaha_game = OmahaTable(num_players=3, deck_type='short')"
   ]
  },
  {
   "cell_type": "code",
   "execution_count": null,
   "metadata": {},
   "outputs": [
    {
     "name": "stderr",
     "output_type": "stream",
     "text": [
      "INFO:root:Giving Player 1 Ac Qs Js 9c\n",
      "INFO:root:Giving Player 2 8s 7h 7s Kd\n",
      "INFO:root:Giving Player 3 Ad Jh 9h Qd\n"
     ]
    },
    {
     "data": {
      "text/plain": [
       "{'Player 1': 'Ac Qs Js 9c',\n",
       " 'Player 2': '8s 7h 7s Kd',\n",
       " 'Player 3': 'Ad Jh 9h Qd',\n",
       " 'Community Cards': ''}"
      ]
     },
     "execution_count": 21,
     "metadata": {},
     "output_type": "execute_result"
    }
   ],
   "source": [
    "omaha_game.next_round()\n",
    "omaha_game.view_table()"
   ]
  },
  {
   "cell_type": "code",
   "execution_count": null,
   "metadata": {},
   "outputs": [
    {
     "name": "stderr",
     "output_type": "stream",
     "text": [
      "INFO:root:4500000 Simulations in 4.99s\n"
     ]
    }
   ],
   "source": [
    "win_tie_loss, final_hand = omaha_game.simulate(final_hand=True)"
   ]
  },
  {
   "cell_type": "code",
   "execution_count": null,
   "metadata": {},
   "outputs": [
    {
     "data": {
      "text/plain": [
       "{'Player 1 Win': np.float64(11.09),\n",
       " 'Player 1 Tie': np.float64(36.69),\n",
       " 'Player 2 Win': np.float64(41.14),\n",
       " 'Player 2 Tie': np.float64(0.0),\n",
       " 'Player 3 Win': np.float64(11.08),\n",
       " 'Player 3 Tie': np.float64(36.69)}"
      ]
     },
     "execution_count": 23,
     "metadata": {},
     "output_type": "execute_result"
    }
   ],
   "source": [
    "win_tie_loss"
   ]
  },
  {
   "cell_type": "code",
   "execution_count": null,
   "metadata": {},
   "outputs": [
    {
     "data": {
      "text/plain": [
       "{1: {np.str_('One Pair'): np.float64(6.12),\n",
       "  np.str_('Two Pairs'): np.float64(30.2),\n",
       "  np.str_('Three of a Kind'): np.float64(6.33),\n",
       "  np.str_('Straight'): np.float64(32.51),\n",
       "  np.str_('Flush'): np.float64(14.92),\n",
       "  np.str_('Full House'): np.float64(8.98),\n",
       "  np.str_('Straight Flush'): np.float64(0.96)},\n",
       " 2: {np.str_('One Pair'): np.float64(5.68),\n",
       "  np.str_('Two Pairs'): np.float64(26.78),\n",
       "  np.str_('Three of a Kind'): np.float64(21.44),\n",
       "  np.str_('Straight'): np.float64(12.52),\n",
       "  np.str_('Flush'): np.float64(3.3),\n",
       "  np.str_('Full House'): np.float64(25.16),\n",
       "  np.str_('Four of a Kind'): np.float64(4.6),\n",
       "  np.str_('Straight Flush'): np.float64(0.51)},\n",
       " 3: {np.str_('One Pair'): np.float64(6.4),\n",
       "  np.str_('Two Pairs'): np.float64(30.54),\n",
       "  np.str_('Three of a Kind'): np.float64(6.34),\n",
       "  np.str_('Straight'): np.float64(33.02),\n",
       "  np.str_('Flush'): np.float64(13.75),\n",
       "  np.str_('Full House'): np.float64(9.0),\n",
       "  np.str_('Straight Flush'): np.float64(0.95)}}"
      ]
     },
     "execution_count": 24,
     "metadata": {},
     "output_type": "execute_result"
    }
   ],
   "source": [
    "final_hand"
   ]
  },
  {
   "cell_type": "code",
   "execution_count": null,
   "metadata": {},
   "outputs": [
    {
     "name": "stderr",
     "output_type": "stream",
     "text": [
      "INFO:root:Flop card:  6s 9d Td\n",
      "INFO:root:37800 Simulations in 0.28s\n"
     ]
    },
    {
     "data": {
      "text/plain": [
       "{'Player 1 Win': np.float64(1.9),\n",
       " 'Player 1 Tie': np.float64(36.19),\n",
       " 'Player 2 Win': np.float64(32.86),\n",
       " 'Player 2 Tie': np.float64(0.0),\n",
       " 'Player 3 Win': np.float64(29.05),\n",
       " 'Player 3 Tie': np.float64(36.19)}"
      ]
     },
     "execution_count": 25,
     "metadata": {},
     "output_type": "execute_result"
    }
   ],
   "source": [
    "omaha_game.next_round()\n",
    "omaha_game.simulate()"
   ]
  },
  {
   "cell_type": "code",
   "execution_count": null,
   "metadata": {},
   "outputs": [
    {
     "data": {
      "text/plain": [
       "'Player 2 wins with a Straight'"
      ]
     },
     "execution_count": 26,
     "metadata": {},
     "output_type": "execute_result"
    }
   ],
   "source": [
    "omaha_game.view_result()"
   ]
  },
  {
   "cell_type": "code",
   "execution_count": null,
   "metadata": {},
   "outputs": [
    {
     "data": {
      "text/plain": [
       "{'Player 1 Current Hand': 'One Pair 6c Tc As 9d 9d',\n",
       " 'Player 2 Current Hand': 'Straight 6s 7h 8s 9d Td',\n",
       " 'Player 3 Current Hand': 'One Pair 6d Th As 9d 9d'}"
      ]
     },
     "execution_count": 27,
     "metadata": {},
     "output_type": "execute_result"
    }
   ],
   "source": [
    "omaha_game.view_hand()"
   ]
  },
  {
   "cell_type": "code",
   "execution_count": null,
   "metadata": {},
   "outputs": [],
   "source": []
  }
 ],
 "metadata": {
  "kernelspec": {
   "display_name": ".venv",
   "language": "python",
   "name": "python3"
  },
  "language_info": {
   "codemirror_mode": {
    "name": "ipython",
    "version": 3
   },
   "file_extension": ".py",
   "mimetype": "text/x-python",
   "name": "python",
   "nbconvert_exporter": "python",
   "pygments_lexer": "ipython3",
   "version": "3.11.4"
  }
 },
 "nbformat": 4,
 "nbformat_minor": 2
}
